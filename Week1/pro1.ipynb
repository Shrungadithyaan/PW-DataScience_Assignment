{
 "cells": [
  {
   "attachments": {},
   "cell_type": "markdown",
   "metadata": {},
   "source": [
    "# Variable"
   ]
  },
  {
   "attachments": {},
   "cell_type": "markdown",
   "metadata": {},
   "source": [
    "Q1. Create one variable containing following of data \n",
    "1. string\n",
    "2. list\n",
    "3. float\n",
    "4. tuple"
   ]
  },
  {
   "cell_type": "code",
   "execution_count": 1,
   "metadata": {},
   "outputs": [
    {
     "name": "stdout",
     "output_type": "stream",
     "text": [
      "Shrungadithya\n"
     ]
    }
   ],
   "source": [
    "#String variable\n",
    "\n",
    "str_var = \"Shrungadithya\"\n",
    "print(str_var)"
   ]
  },
  {
   "cell_type": "code",
   "execution_count": 2,
   "metadata": {},
   "outputs": [
    {
     "name": "stdout",
     "output_type": "stream",
     "text": [
      "[1, 2, 3, 4, 'pwSkills', 'Assignment']\n"
     ]
    }
   ],
   "source": [
    "#list\n",
    "\n",
    "list_var = [1,2,3,4,\"pwSkills\", \"Assignment\"]\n",
    "print(list_var)"
   ]
  },
  {
   "cell_type": "code",
   "execution_count": 3,
   "metadata": {},
   "outputs": [
    {
     "name": "stdout",
     "output_type": "stream",
     "text": [
      "2.3\n"
     ]
    }
   ],
   "source": [
    "# Float\n",
    "\n",
    "float_var = 2.3\n",
    "print(float_var)"
   ]
  },
  {
   "cell_type": "code",
   "execution_count": 4,
   "metadata": {},
   "outputs": [
    {
     "name": "stdout",
     "output_type": "stream",
     "text": [
      "('Adhi', 2, 0.3, True)\n"
     ]
    }
   ],
   "source": [
    "# tuple\n",
    "tuple_var = (\"Adhi\",2,0.3,True)\n",
    "print(tuple_var)"
   ]
  },
  {
   "attachments": {},
   "cell_type": "markdown",
   "metadata": {},
   "source": [
    "# Data Type"
   ]
  },
  {
   "attachments": {},
   "cell_type": "markdown",
   "metadata": {},
   "source": [
    "Q2. Given are some following variable containing data\n",
    "\n",
    "1. var1 = ''\n",
    "2. var2 = '[DS,ML,Python]'\n",
    "3. var3 = ['DS','ML','Python']\n",
    "4. var4 = 1\n",
    "\n",
    "What will be the data type of the given variable"
   ]
  },
  {
   "cell_type": "code",
   "execution_count": 5,
   "metadata": {},
   "outputs": [
    {
     "name": "stdout",
     "output_type": "stream",
     "text": [
      "\n",
      "<class 'str'>\n"
     ]
    }
   ],
   "source": [
    "var1 = ''\n",
    "print(var1)\n",
    "print(type(var1))"
   ]
  },
  {
   "cell_type": "code",
   "execution_count": 6,
   "metadata": {},
   "outputs": [
    {
     "name": "stdout",
     "output_type": "stream",
     "text": [
      "[DS,ML,Python]\n",
      "<class 'str'>\n"
     ]
    }
   ],
   "source": [
    "var2 = '[DS,ML,Python]'\n",
    "print(var2)\n",
    "print(type(var2))"
   ]
  },
  {
   "cell_type": "code",
   "execution_count": 7,
   "metadata": {},
   "outputs": [
    {
     "name": "stdout",
     "output_type": "stream",
     "text": [
      "['DS', 'ML', 'Python']\n",
      "<class 'list'>\n"
     ]
    }
   ],
   "source": [
    "var3 = ['DS','ML','Python']\n",
    "print(var3)\n",
    "print(type(var3))"
   ]
  },
  {
   "cell_type": "code",
   "execution_count": 8,
   "metadata": {},
   "outputs": [
    {
     "name": "stdout",
     "output_type": "stream",
     "text": [
      "1\n",
      "<class 'int'>\n"
     ]
    }
   ],
   "source": [
    "var4 = 1\n",
    "print(var4)\n",
    "print(type(var4))"
   ]
  },
  {
   "attachments": {},
   "cell_type": "markdown",
   "metadata": {},
   "source": [
    "Q3. Explain the use of the following operator using an example.\n",
    "1. /\n",
    "2. %\n",
    "3. //\n",
    "4. **"
   ]
  },
  {
   "cell_type": "code",
   "execution_count": 9,
   "metadata": {},
   "outputs": [],
   "source": [
    "#Arithmetic operators are used to perform mathematical operations \n",
    "# 1. /\n",
    "# 2. %\n",
    "# 3. //\n",
    "# 4. **"
   ]
  },
  {
   "cell_type": "code",
   "execution_count": 10,
   "metadata": {},
   "outputs": [
    {
     "name": "stdout",
     "output_type": "stream",
     "text": [
      "Division : 5.0\n"
     ]
    }
   ],
   "source": [
    "# Division (/)\n",
    "\n",
    "a = 10\n",
    "b = 2\n",
    "\n",
    "print(\"Division :\",a/b)"
   ]
  },
  {
   "cell_type": "code",
   "execution_count": 11,
   "metadata": {},
   "outputs": [
    {
     "name": "stdout",
     "output_type": "stream",
     "text": [
      "Modulo : 0\n"
     ]
    }
   ],
   "source": [
    "# Modulo (%)\n",
    "\n",
    "print(\"Modulo :\",a%b)"
   ]
  },
  {
   "cell_type": "code",
   "execution_count": 12,
   "metadata": {},
   "outputs": [
    {
     "name": "stdout",
     "output_type": "stream",
     "text": [
      "Floor Division 5\n"
     ]
    }
   ],
   "source": [
    "# Floor Division (//)\n",
    "\n",
    "print(\"Floor Division\",a//b)"
   ]
  },
  {
   "cell_type": "code",
   "execution_count": 13,
   "metadata": {},
   "outputs": [
    {
     "name": "stdout",
     "output_type": "stream",
     "text": [
      "power 100\n"
     ]
    }
   ],
   "source": [
    "#Power (**)\n",
    "print(\"power\",a**b)\n"
   ]
  },
  {
   "attachments": {},
   "cell_type": "markdown",
   "metadata": {},
   "source": [
    "Q4. Create a list of length 10 of your choice containing multiple types of data. Using for loop print the element and its data type."
   ]
  },
  {
   "cell_type": "code",
   "execution_count": 14,
   "metadata": {},
   "outputs": [
    {
     "name": "stdout",
     "output_type": "stream",
     "text": [
      "\n",
      " value is : 1\n",
      "\n",
      " 1 it's data tye is <class 'int'>\n",
      "\n",
      " value is : 2\n",
      "\n",
      " 2 it's data tye is <class 'int'>\n",
      "\n",
      " value is : 3\n",
      "\n",
      " 3 it's data tye is <class 'int'>\n",
      "\n",
      " value is : 4\n",
      "\n",
      " 4 it's data tye is <class 'int'>\n",
      "\n",
      " value is : pwSkills\n",
      "\n",
      " pwSkills it's data tye is <class 'str'>\n",
      "\n",
      " value is : Assignment\n",
      "\n",
      " Assignment it's data tye is <class 'str'>\n",
      "\n",
      " List data type is <class 'list'>\n"
     ]
    }
   ],
   "source": [
    "list_var = [1,2,3,4,\"pwSkills\", \"Assignment\"]\n",
    "\n",
    "for i in list_var:\n",
    "    print(\"\\n value is :\",i)\n",
    "    print(\"\\n\",i,\"it's data tye is\",type(i))\n",
    "\n",
    "print(\"\\n List data type is\",type(list_var))"
   ]
  },
  {
   "attachments": {},
   "cell_type": "markdown",
   "metadata": {},
   "source": [
    "Q5. Using a while loop, verify if the number A is purely divisible by number B and if so then how many \n",
    "times it can be divisible."
   ]
  },
  {
   "cell_type": "code",
   "execution_count": 15,
   "metadata": {},
   "outputs": [
    {
     "name": "stdout",
     "output_type": "stream",
     "text": [
      "4\n"
     ]
    }
   ],
   "source": [
    "A = 10\n",
    "B = 1\n",
    "count=0\n",
    "while B<=A:\n",
    "    if (A%B==0):\n",
    "        count=count+1\n",
    "    B=B+1\n",
    "print(count)\n",
    "\n",
    "    "
   ]
  },
  {
   "attachments": {},
   "cell_type": "markdown",
   "metadata": {},
   "source": [
    "Q6. Create a list containing 25 int type data. Using for loop and if-else condition print if the element is \n",
    "divisible by 3 or not."
   ]
  },
  {
   "cell_type": "code",
   "execution_count": 16,
   "metadata": {},
   "outputs": [
    {
     "name": "stdout",
     "output_type": "stream",
     "text": [
      "[1, 2, 3, 4, 5, 6, 7, 8, 9, 10, 11, 12, 13, 14, 15, 16, 17, 18, 19, 20, 21, 22, 23, 24, 25]\n",
      "\n",
      " 1 It is not divisible by 3\n",
      "\n",
      " 2 It is not divisible by 3\n",
      "\n",
      " 3 It is divisible by 3\n",
      "\n",
      " 4 It is not divisible by 3\n",
      "\n",
      " 5 It is not divisible by 3\n",
      "\n",
      " 6 It is divisible by 3\n",
      "\n",
      " 7 It is not divisible by 3\n",
      "\n",
      " 8 It is not divisible by 3\n",
      "\n",
      " 9 It is divisible by 3\n",
      "\n",
      " 10 It is not divisible by 3\n",
      "\n",
      " 11 It is not divisible by 3\n",
      "\n",
      " 12 It is divisible by 3\n",
      "\n",
      " 13 It is not divisible by 3\n",
      "\n",
      " 14 It is not divisible by 3\n",
      "\n",
      " 15 It is divisible by 3\n",
      "\n",
      " 16 It is not divisible by 3\n",
      "\n",
      " 17 It is not divisible by 3\n",
      "\n",
      " 18 It is divisible by 3\n",
      "\n",
      " 19 It is not divisible by 3\n",
      "\n",
      " 20 It is not divisible by 3\n",
      "\n",
      " 21 It is divisible by 3\n",
      "\n",
      " 22 It is not divisible by 3\n",
      "\n",
      " 23 It is not divisible by 3\n",
      "\n",
      " 24 It is divisible by 3\n",
      "\n",
      " 25 It is not divisible by 3\n"
     ]
    }
   ],
   "source": [
    "list_d = list(range(1,26))\n",
    "print(list_d)\n",
    "\n",
    "for i in list_d:\n",
    "    if i % 3 == 0:\n",
    "        print(\"\\n\",i,\"It is divisible by 3\")\n",
    "\n",
    "    else:\n",
    "        print(\"\\n\",i,\"It is not divisible by 3\")"
   ]
  },
  {
   "attachments": {},
   "cell_type": "markdown",
   "metadata": {},
   "source": [
    "Q7. What do you understand about mutable and immutable data types? Give examples for both showing this property."
   ]
  },
  {
   "cell_type": "code",
   "execution_count": 17,
   "metadata": {},
   "outputs": [
    {
     "name": "stdout",
     "output_type": "stream",
     "text": [
      "Before : [1, 2, 3, 4, 'pwSkills', 'Assignment']\n",
      "After : [1, 2, 'pw', 4, 'pwSkills', 'Assignment']\n"
     ]
    }
   ],
   "source": [
    "# A mutable object can be changed after it is created\n",
    "\n",
    "list_var = [1,2,3,4,\"pwSkills\", \"Assignment\"]\n",
    "\n",
    "print(\"Before :\",list_var)\n",
    "\n",
    "list_var[2] = \"pw\"\n",
    "\n",
    "print(\"After :\",list_var)"
   ]
  },
  {
   "cell_type": "code",
   "execution_count": 18,
   "metadata": {},
   "outputs": [
    {
     "name": "stdout",
     "output_type": "stream",
     "text": [
      "Shrungadithya\n"
     ]
    },
    {
     "ename": "TypeError",
     "evalue": "'str' object does not support item assignment",
     "output_type": "error",
     "traceback": [
      "\u001b[1;31m---------------------------------------------------------------------------\u001b[0m",
      "\u001b[1;31mTypeError\u001b[0m                                 Traceback (most recent call last)",
      "\u001b[1;32me:\\Data_Science\\PW\\PW-Assignment\\Week1\\pro1.ipynb Cell 27\u001b[0m in \u001b[0;36m<cell line: 6>\u001b[1;34m()\u001b[0m\n\u001b[0;32m      <a href='vscode-notebook-cell:/e%3A/Data_Science/PW/PW-Assignment/Week1/pro1.ipynb#X35sZmlsZQ%3D%3D?line=1'>2</a>\u001b[0m name  \u001b[39m=\u001b[39m \u001b[39m\"\u001b[39m\u001b[39mShrungadithya\u001b[39m\u001b[39m\"\u001b[39m\n\u001b[0;32m      <a href='vscode-notebook-cell:/e%3A/Data_Science/PW/PW-Assignment/Week1/pro1.ipynb#X35sZmlsZQ%3D%3D?line=3'>4</a>\u001b[0m \u001b[39mprint\u001b[39m(name)\n\u001b[1;32m----> <a href='vscode-notebook-cell:/e%3A/Data_Science/PW/PW-Assignment/Week1/pro1.ipynb#X35sZmlsZQ%3D%3D?line=5'>6</a>\u001b[0m name[\u001b[39m2\u001b[39m] \u001b[39m=\u001b[39m \u001b[39m\"\u001b[39m\u001b[39ms\u001b[39m\u001b[39m\"\u001b[39m\n",
      "\u001b[1;31mTypeError\u001b[0m: 'str' object does not support item assignment"
     ]
    }
   ],
   "source": [
    "#An immutable object cannot be changed after it is created\n",
    "name  = \"Shrungadithya\"\n",
    "\n",
    "print(name)\n",
    "\n",
    "name[2] = \"s\"\n",
    "# So it will show an error"
   ]
  }
 ],
 "metadata": {
  "kernelspec": {
   "display_name": "Python 3",
   "language": "python",
   "name": "python3"
  },
  "language_info": {
   "codemirror_mode": {
    "name": "ipython",
    "version": 3
   },
   "file_extension": ".py",
   "mimetype": "text/x-python",
   "name": "python",
   "nbconvert_exporter": "python",
   "pygments_lexer": "ipython3",
   "version": "3.10.11"
  },
  "orig_nbformat": 4
 },
 "nbformat": 4,
 "nbformat_minor": 2
}
