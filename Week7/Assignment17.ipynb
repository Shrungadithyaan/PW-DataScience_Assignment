{
 "cells": [
  {
   "cell_type": "markdown",
   "metadata": {},
   "source": [
    " Go to this given URL and solve the following questions\n",
    " URL: \n",
    "https://www.youtube.com/@PW-Foundation/videos"
   ]
  },
  {
   "cell_type": "markdown",
   "metadata": {},
   "source": [
    "##  Q1. Write a python program to extract the video URL of the first five videos."
   ]
  },
  {
   "cell_type": "code",
   "execution_count": 4,
   "metadata": {},
   "outputs": [
    {
     "name": "stdout",
     "output_type": "stream",
     "text": [
      "Video URLs:\n"
     ]
    }
   ],
   "source": [
    "import requests\n",
    "from bs4 import BeautifulSoup\n",
    "\n",
    "channel_url = \"https://www.youtube.com/@PW-Foundation/videos\"\n",
    "\n",
    "response = requests.get(channel_url)\n",
    "\n",
    "soup = BeautifulSoup(response.text, 'html.parser')\n",
    "\n",
    "video_links = soup.find_all('a', {'class': 'yt-simple-endpoint inline-block style-scope ytd-thumbnail'})\n",
    "video_links\n",
    "\n",
    "video_urls = [link['href'] for link in video_links[:5]]\n",
    "video_urls\n",
    "print(\"Video URLs:\")\n",
    "for url in video_urls:\n",
    "    print(f\"https://www.youtube.com{url}\")\n"
   ]
  },
  {
   "cell_type": "markdown",
   "metadata": {},
   "source": [
    "##  Q2. Write a python program to extract the URL of the video thumbnails of the first five videos"
   ]
  },
  {
   "cell_type": "code",
   "execution_count": 5,
   "metadata": {},
   "outputs": [
    {
     "name": "stdout",
     "output_type": "stream",
     "text": [
      "Thumbnail URLs:\n"
     ]
    }
   ],
   "source": [
    "\n",
    "thumbnails = soup.find_all('img', {'class': 'style-scope yt-img-shadow'})\n",
    "\n",
    "thumbnail_urls = [thumb['src'] for thumb in thumbnails[:5]]\n",
    "\n",
    "print(\"Thumbnail URLs:\")\n",
    "for url in thumbnail_urls:\n",
    "    print(url)\n"
   ]
  },
  {
   "cell_type": "markdown",
   "metadata": {},
   "source": [
    "## Q3. Write a python program to extract the title of the first five videos."
   ]
  },
  {
   "cell_type": "code",
   "execution_count": 7,
   "metadata": {},
   "outputs": [
    {
     "name": "stdout",
     "output_type": "stream",
     "text": [
      "Video Titles:\n"
     ]
    }
   ],
   "source": [
    "\n",
    "titles = soup.find_all('a', {'id': 'video-title'})\n",
    "\n",
    "\n",
    "video_titles = [title.text.strip() for title in titles[:5]]\n",
    "\n",
    "print(\"Video Titles:\")\n",
    "for title in video_titles:\n",
    "    print(title)\n"
   ]
  },
  {
   "cell_type": "markdown",
   "metadata": {},
   "source": [
    "##  Q4. Write a python program to extract the number of views of the first five videos."
   ]
  },
  {
   "cell_type": "code",
   "execution_count": 9,
   "metadata": {},
   "outputs": [
    {
     "name": "stdout",
     "output_type": "stream",
     "text": [
      "View Counts:\n"
     ]
    }
   ],
   "source": [
    "\n",
    "views = soup.find_all('span', {'class': 'style-scope ytd-grid-video-renderer'})\n",
    "\n",
    "view_counts = [view.text.strip() for view in views[:5]]\n",
    "\n",
    "print(\"View Counts:\")\n",
    "for count in view_counts:\n",
    "    print(count)\n"
   ]
  },
  {
   "cell_type": "markdown",
   "metadata": {},
   "source": [
    "##  Q5. Write a python program to extract the time of posting of video for the first five videos."
   ]
  },
  {
   "cell_type": "code",
   "execution_count": 10,
   "metadata": {},
   "outputs": [
    {
     "name": "stdout",
     "output_type": "stream",
     "text": [
      "Posting Times:\n"
     ]
    }
   ],
   "source": [
    "\n",
    "posting_times = [time['aria-label'] for time in titles[:5]]\n",
    "\n",
    "print(\"Posting Times:\")\n",
    "for time in posting_times:\n",
    "    print(time)\n"
   ]
  },
  {
   "cell_type": "code",
   "execution_count": null,
   "metadata": {},
   "outputs": [],
   "source": []
  }
 ],
 "metadata": {
  "kernelspec": {
   "display_name": "butterfly",
   "language": "python",
   "name": "python3"
  },
  "language_info": {
   "codemirror_mode": {
    "name": "ipython",
    "version": 3
   },
   "file_extension": ".py",
   "mimetype": "text/x-python",
   "name": "python",
   "nbconvert_exporter": "python",
   "pygments_lexer": "ipython3",
   "version": "3.11.4"
  }
 },
 "nbformat": 4,
 "nbformat_minor": 2
}
