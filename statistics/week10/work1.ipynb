{
 "cells": [
  {
   "cell_type": "markdown",
   "metadata": {},
   "source": [
    "# Statistics"
   ]
  },
  {
   "cell_type": "markdown",
   "metadata": {},
   "source": [
    "## Q1. What is Statistics?"
   ]
  },
  {
   "cell_type": "markdown",
   "metadata": {},
   "source": [
    "### Statistics is the Science of Collecting , Organizing and Analysing the data"
   ]
  },
  {
   "cell_type": "markdown",
   "metadata": {},
   "source": [
    "## Q2. Define the different types of statistics and give an example of when each type might be used."
   ]
  },
  {
   "cell_type": "markdown",
   "metadata": {},
   "source": [
    "There Two types of statistics\n",
    "\n",
    "1. descriptive statistics\n",
    "   \n",
    "   It consists of organizing and summarizing the data .\n",
    "\n",
    "   < Measure of Central Tendency\n",
    "\n",
    "   < Measure of Dispersion \n",
    "\n",
    "   < Histogram ,Bar Chart , Pie Chart\n",
    "\n",
    "   Example: The Average height of the Student in the class\n",
    "\n",
    "\n",
    "2. inferential statistics\n",
    "\n",
    "   It Consists of using data you have measured to from collection\n",
    "\n",
    "   < Z-test\n",
    "\n",
    "   < T-test\n",
    "\n",
    "   Example: properties to test hypotheses and draw conclusions.\n"
   ]
  },
  {
   "cell_type": "markdown",
   "metadata": {},
   "source": [
    "## Q3.  What are the different types of data and how do they differ from each other? Provide an example of each type of data."
   ]
  },
  {
   "cell_type": "markdown",
   "metadata": {},
   "source": [
    "1. Quantitative data\n",
    "\n",
    "    1. Discrete \n",
    "\n",
    "        Example: Number of cars\n",
    "\n",
    "    2. Continues\n",
    "\n",
    "        Example: weight of Lion Qyno Dates\n",
    "\n",
    "2. Qualitative data\n",
    "\n",
    "    1. Nominal \n",
    "\n",
    "        Example: Gender \n",
    "\n",
    "    2. Ordinal \n",
    "\n",
    "        Example: Rank"
   ]
  },
  {
   "cell_type": "markdown",
   "metadata": {},
   "source": [
    "## Q4. Categorise the following datasets with respect to quantitative and qualitative data types:\n",
    "\n",
    "(i)\tGrading in exam: A+, A, B+, B, C+, C, D, E\n",
    "\n",
    "    - Ordinal\n",
    "\n",
    "(ii)\tColour of mangoes: yellow, green, orange, red\n",
    "\n",
    "    - Nominal\n",
    "\n",
    "(iii)\tHeight data of a class: [178.9, 179, 179.5, 176, 177.2, 178.3, 175.8,...]\n",
    "\n",
    "    - Continues\n",
    "\n",
    "(iv)\tNumber of mangoes exported by a farm: [500, 600, 478, 672, …]\n",
    "\n",
    "    - Discrete"
   ]
  },
  {
   "cell_type": "markdown",
   "metadata": {},
   "source": [
    "## Q5. Explain the concept of levels of measurement and give an example of a variable for each level."
   ]
  },
  {
   "cell_type": "markdown",
   "metadata": {},
   "source": [
    "1. Nominal Scale Data\n",
    "\n",
    "    - Qualitative / Categorical Variable \n",
    "\n",
    "    Example:- Gender, Color , Table\n",
    "\n",
    "2. Ordinal Scale Data\n",
    "\n",
    "    - Raking and Order Matter\n",
    "\n",
    "    - Difference Cannot be Measured\n",
    "\n",
    "    Example:- Rank, Marks\n",
    "\n",
    "3. Interval Scale Data\n",
    "\n",
    "    - The Rank and Order Matter\n",
    "\n",
    "    - The interval scale is quantitative in the sense that it can quantify the difference between values.\n",
    "\n",
    "\n",
    "    - Difference Can be measured (excluding Ratio)\n",
    "\n",
    "    - Does not have \"0\" Starting value\n",
    "\n",
    "    Example:  8 degrees, 4 years, 2 months,\n",
    "\n",
    "\n",
    "4. Ratio Scale Data\n",
    "\n",
    "    - Ratio scales allow you to categorize and rank your data along equal intervals.\n",
    "\n",
    "    - order and Rank mater\n",
    "\n",
    "    - Difference and ratio are measured \n",
    "\n",
    "    - It does have a \"o\" Starting value\n",
    "    \n",
    "\n",
    "    Example : length, money, age, duration\n",
    "\n",
    "\n"
   ]
  },
  {
   "cell_type": "markdown",
   "metadata": {},
   "source": []
  },
  {
   "cell_type": "markdown",
   "metadata": {},
   "source": []
  }
 ],
 "metadata": {
  "language_info": {
   "name": "python"
  },
  "orig_nbformat": 4
 },
 "nbformat": 4,
 "nbformat_minor": 2
}
