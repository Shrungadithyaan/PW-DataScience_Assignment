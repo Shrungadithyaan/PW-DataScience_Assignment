{
 "cells": [
  {
   "cell_type": "markdown",
   "metadata": {},
   "source": [
    "# Statistics"
   ]
  },
  {
   "cell_type": "markdown",
   "metadata": {},
   "source": [
    "## Q1. What is Statistics?"
   ]
  },
  {
   "cell_type": "markdown",
   "metadata": {},
   "source": [
    "### Statistics is the Science of Collecting , Organizing and Analysing the data"
   ]
  },
  {
   "cell_type": "markdown",
   "metadata": {},
   "source": [
    "## Q2. Define the different types of statistics and give an example of when each type might be used."
   ]
  },
  {
   "cell_type": "markdown",
   "metadata": {},
   "source": [
    "There Two types of statistics\n",
    "\n",
    "1. descriptive statistics\n",
    "   \n",
    "   It consists of organizing and summarizing the data .\n",
    "\n",
    "   Example: The Average height of the Student in the class\n",
    "\n",
    "\n",
    "2. inferential statistics\n",
    "\n",
    "   It Consists of using data you have measured to from collection\n",
    "\n",
    "   Example: properties to test hypotheses and draw conclusions.\n"
   ]
  },
  {
   "cell_type": "markdown",
   "metadata": {},
   "source": [
    "## Q3.  What are the different types of data and how do they differ from each other? Provide an example of each type of data."
   ]
  },
  {
   "cell_type": "markdown",
   "metadata": {},
   "source": [
    "1. Quantitative data\n",
    "\n",
    "    1. Discrete \n",
    "\n",
    "        Example: Number of cars\n",
    "\n",
    "    2. Continues\n",
    "\n",
    "        Example: weight of Lion Qyno Dates\n",
    "\n",
    "2. Qualitative data\n",
    "\n",
    "    1. Nominal \n",
    "\n",
    "        Example: Gender \n",
    "\n",
    "    2. Ordinal \n",
    "\n",
    "        Example: Rank"
   ]
  },
  {
   "cell_type": "markdown",
   "metadata": {},
   "source": []
  }
 ],
 "metadata": {
  "language_info": {
   "name": "python"
  },
  "orig_nbformat": 4
 },
 "nbformat": 4,
 "nbformat_minor": 2
}
