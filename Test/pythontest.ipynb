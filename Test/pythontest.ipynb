{
 "cells": [
  {
   "cell_type": "markdown",
   "metadata": {},
   "source": [
    "## Python Test"
   ]
  },
  {
   "cell_type": "markdown",
   "metadata": {},
   "source": [
    "Q1. Write a Python program that defines a function called \"add_numbers\" that takes two arguments (i.e., numbers) and returns their sum. \n",
    "\n",
    "Within the function, add the two numbers together and return the result using the return statement. \n",
    "\n",
    "Call the function with the values 5 and 6, and print out the returned result.\n",
    "\n",
    " This will result in the addition of 5 and 6, with the output of the program being the sum of these two numbers."
   ]
  },
  {
   "cell_type": "code",
   "execution_count": 2,
   "metadata": {},
   "outputs": [
    {
     "name": "stdout",
     "output_type": "stream",
     "text": [
      "11\n"
     ]
    }
   ],
   "source": [
    "def add_numbers(a,b):\n",
    "    \n",
    "    return a + b\n",
    "\n",
    "## Driver code\n",
    "\n",
    "result = add_numbers(5, 6)\n",
    "print(result)"
   ]
  },
  {
   "cell_type": "markdown",
   "metadata": {},
   "source": [
    " Q2. Write a Python program that calculates the square root of a given number using a built-in\n",
    " function.\n",
    "\n",
    " Specifically, the program should take an integer or float input from the user, calculate its square\n",
    " root\n",
    "\n",
    " using the 'sqrt()' function from the 'math' module, and print out the result to the user. As an\n",
    " example,\n",
    " \n",
    " calculate the square root of the number 625 using this program, which should output the value\n",
    " of 25."
   ]
  },
  {
   "cell_type": "code",
   "execution_count": 7,
   "metadata": {},
   "outputs": [
    {
     "name": "stdout",
     "output_type": "stream",
     "text": [
      "Square Root: 2.0\n",
      "Square Root: 1.8708286933869707\n"
     ]
    }
   ],
   "source": [
    "import math \n",
    "def sqroot(a):\n",
    "    return math.sqrt(a)\n",
    "\n",
    "n = int(input(\"Enter the number\"))\n",
    "result = sqroot(n)\n",
    "print(\"Square Root:\", result)\n",
    "\n",
    "result = sqroot(3.5)\n",
    "\n",
    "print(\"Square Root:\", result)\n"
   ]
  },
  {
   "cell_type": "code",
   "execution_count": 11,
   "metadata": {},
   "outputs": [
    {
     "name": "stdout",
     "output_type": "stream",
     "text": [
      "Square Root: 2.23606797749979\n",
      "Square Root: 2.3664319132398464\n"
     ]
    }
   ],
   "source": [
    "import math \n",
    "def sqroot(a):\n",
    "    return math.sqrt(a)\n",
    "\n",
    "n = int(input(\"Enter the number\"))\n",
    "result = sqroot(n)\n",
    "print(\"Square Root:\", result)\n",
    "n = input(\"Enter the number\")\n",
    "\n",
    "result1 = sqroot(float(n))\n",
    "print(\"Square Root:\", result1)\n",
    "\n",
    "\n",
    "\n"
   ]
  },
  {
   "cell_type": "markdown",
   "metadata": {},
   "source": [
    "Q3.Write a program that prints all prime numbers between 0 to 50."
   ]
  },
  {
   "cell_type": "code",
   "execution_count": 20,
   "metadata": {},
   "outputs": [
    {
     "name": "stdout",
     "output_type": "stream",
     "text": [
      "2\n",
      "3\n",
      "5\n",
      "7\n",
      "11\n",
      "13\n",
      "17\n",
      "19\n",
      "23\n",
      "29\n",
      "31\n",
      "37\n",
      "41\n",
      "43\n",
      "47\n"
     ]
    }
   ],
   "source": [
    "for n in range(0,51):\n",
    "        \n",
    "        if n > 1:\n",
    "            is_prime = True\n",
    "            for i in range(2, int(n ** 0.5 )+ 1):\n",
    "                \n",
    "                if n % i == 0:\n",
    "                    \n",
    "                   is_prime = False\n",
    "            if is_prime:\n",
    "                print(n)\n",
    "    \n"
   ]
  },
  {
   "cell_type": "code",
   "execution_count": 21,
   "metadata": {},
   "outputs": [
    {
     "name": "stdout",
     "output_type": "stream",
     "text": [
      "43 is a prime number.\n"
     ]
    }
   ],
   "source": [
    "def is_prime(n):\n",
    "    \n",
    "    if n >= 1:\n",
    "        \n",
    "        for i in range(2, int(n**0.5)+1):\n",
    "            \n",
    "            if n % i == 0:\n",
    "                return False\n",
    "            return True\n",
    "        \n",
    "result = is_prime(43)\n",
    "\n",
    "if is_prime:\n",
    "    print(43, \"is a prime number.\")\n",
    "else:\n",
    "    print(43, \"is not a prime number.\")"
   ]
  },
  {
   "cell_type": "markdown",
   "metadata": {},
   "source": [
    " Q4.How can we swap the values of three variables (let's say a, b, and c) without using a fourth\n",
    " variable?\n",
    "\n",
    " For example, if we have a=5, b=8, and c=9, how can we obtain a=9, b=5, and c=8? The\n",
    " challenge is to\n",
    " \n",
    " perform this operation without using an additional variable to store any of the values during the\n",
    " swapping process."
   ]
  },
  {
   "cell_type": "code",
   "execution_count": 22,
   "metadata": {},
   "outputs": [
    {
     "name": "stdout",
     "output_type": "stream",
     "text": [
      "a: 9\n",
      "b: 4\n",
      "c: 5\n"
     ]
    }
   ],
   "source": [
    "a = 5\n",
    "b = 4\n",
    "c = 9\n",
    "\n",
    "a,b,c = c,b,a\n",
    "\n",
    "print(\"a:\", a)\n",
    "print(\"b:\", b)\n",
    "print(\"c:\", c)"
   ]
  },
  {
   "cell_type": "code",
   "execution_count": 24,
   "metadata": {},
   "outputs": [
    {
     "name": "stdout",
     "output_type": "stream",
     "text": [
      "a: 9\n",
      "b: 5\n",
      "c: 4\n"
     ]
    }
   ],
   "source": [
    "a = 5\n",
    "b = 4\n",
    "c = 9\n",
    "\n",
    "a = a+b+c\n",
    "b = a - (b+c)\n",
    "c = a - (b+c)\n",
    "a = a - (b+c)\n",
    "\n",
    "print(\"a:\", a)\n",
    "print(\"b:\", b)\n",
    "print(\"c:\", c)"
   ]
  },
  {
   "cell_type": "markdown",
   "metadata": {},
   "source": [
    " Q5. Can you write a program that determines the nature of a given number (in this case, 87) as\n",
    " being\n",
    "\n",
    " positive, negative, or zero? The program should be designed to take the number as input and\n",
    " perform the\n",
    "\n",
    " necessary calculations to determine if the number is positive (i.e., greater than zero), negative\n",
    " (i.e., less\n",
    "\n",
    " than zero), or zero (i.e., equal to zero). The output of the program should indicate which of these\n",
    " three\n",
    " \n",
    " categories the given number falls into.\n"
   ]
  },
  {
   "cell_type": "code",
   "execution_count": 27,
   "metadata": {},
   "outputs": [
    {
     "name": "stdout",
     "output_type": "stream",
     "text": [
      "-2 is negative\n"
     ]
    }
   ],
   "source": [
    "n = int(input(\"Enter a number\"))\n",
    "\n",
    "if n > 0:\n",
    "    print(n,\"is positive number \")\n",
    "    \n",
    "elif n == 0:\n",
    "    print(n,\"is zero\")\n",
    "elif n < 0:\n",
    "    print(n , \"is negative\")"
   ]
  },
  {
   "cell_type": "markdown",
   "metadata": {},
   "source": [
    "Q6. How can you create a program that determines whether a given number (in this case, 98) is\n",
    " even or odd? The program should be designed to take the number as input and perform the necessary\n",
    " calculations to determine whether it is divisible by two. If the number is divisible by two without\n",
    " leaving a\n",
    " remainder, it is an even number, and if there is a remainder, it is an odd number. The output of\n",
    " the\n",
    " program should indicate whether the given number is even or odd."
   ]
  },
  {
   "cell_type": "code",
   "execution_count": 2,
   "metadata": {},
   "outputs": [
    {
     "name": "stdout",
     "output_type": "stream",
     "text": [
      "98 is an even number.\n"
     ]
    }
   ],
   "source": [
    "def is_even(number):\n",
    "    if number % 2 == 0:\n",
    "        return True\n",
    "    else:\n",
    "        return False\n",
    "\n",
    "n = int(input(\"Enter the number: \"))\n",
    "\n",
    "if is_even(n):\n",
    "    print(n, \"is an even number.\")\n",
    "else:\n",
    "    print(n, \"is an odd number.\")\n"
   ]
  },
  {
   "cell_type": "markdown",
   "metadata": {},
   "source": [
    " Q7.Write a program for sum of digits.The digits are 76543 and the output should be 25."
   ]
  },
  {
   "cell_type": "code",
   "execution_count": 33,
   "metadata": {},
   "outputs": [
    {
     "name": "stdout",
     "output_type": "stream",
     "text": [
      "The sum of digits is: 25\n"
     ]
    }
   ],
   "source": [
    "def sum_of_digits(number):\n",
    "    number_str = str(number)\n",
    "    total = 0\n",
    "    for digit in number_str:\n",
    "        total += int(digit)\n",
    "    return total    \n",
    "\n",
    "n = 76543\n",
    "result = sum_of_digits(n)\n",
    "print(\"The sum of digits is:\", result)\n"
   ]
  },
  {
   "cell_type": "markdown",
   "metadata": {},
   "source": [
    " Q8.Write a program for reversing the given number 5436 and the output should be 6345."
   ]
  },
  {
   "cell_type": "code",
   "execution_count": 36,
   "metadata": {},
   "outputs": [
    {
     "name": "stdout",
     "output_type": "stream",
     "text": [
      "reversed number is 6345\n"
     ]
    }
   ],
   "source": [
    "def reverse(n):\n",
    "    \n",
    "    return n[::-1]\n",
    "\n",
    "\n",
    "n = 5436\n",
    "result = reverse(str(n))\n",
    "\n",
    "print(\"reversed number is\", int(result))"
   ]
  },
  {
   "cell_type": "code",
   "execution_count": 37,
   "metadata": {},
   "outputs": [
    {
     "name": "stdout",
     "output_type": "stream",
     "text": [
      "The reversed number is: 6345\n"
     ]
    }
   ],
   "source": [
    "def reverse_number(number):\n",
    "    # Convert the number to a string and reverse it\n",
    "    reversed_str = str(number)[::-1]\n",
    "    # Convert the reversed string back to an integer\n",
    "    return int(reversed_str)\n",
    "\n",
    "n = 5436\n",
    "result = reverse_number(n)\n",
    "\n",
    "print(\"The reversed number is:\", result)\n"
   ]
  },
  {
   "cell_type": "markdown",
   "metadata": {},
   "source": [
    " Q9.Write a program to check if a given number 371 is an Armstrong number?"
   ]
  },
  {
   "cell_type": "code",
   "execution_count": 42,
   "metadata": {},
   "outputs": [
    {
     "name": "stdout",
     "output_type": "stream",
     "text": [
      "371 is a Armstrong number\n"
     ]
    }
   ],
   "source": [
    "\n",
    "n = 371\n",
    "\n",
    "sum =0\n",
    "num = str(n)\n",
    "l = len(num)\n",
    "\n",
    "for i in num:\n",
    "    sum += int(i) ** l\n",
    "# print(sum)\n",
    "\n",
    "if n == sum:\n",
    "    print(n,\"is a Armstrong number\")\n",
    "else:\n",
    "    print(n,\"is not a Armstrong number\")\n",
    "    "
   ]
  },
  {
   "cell_type": "code",
   "execution_count": 44,
   "metadata": {},
   "outputs": [
    {
     "name": "stdout",
     "output_type": "stream",
     "text": [
      "1234 is not a Armstrong number\n"
     ]
    }
   ],
   "source": [
    "\n",
    "n = 1234\n",
    "\n",
    "sum =0\n",
    "num = str(n)\n",
    "l = len(num)\n",
    "\n",
    "for i in num:\n",
    "    sum += int(i) ** l\n",
    "# print(sum)\n",
    "\n",
    "if n == sum:\n",
    "    print(n,\"is a Armstrong number\")\n",
    "else:\n",
    "    print(n,\"is not a Armstrong number\")\n",
    "    "
   ]
  },
  {
   "cell_type": "markdown",
   "metadata": {},
   "source": [
    " Q10.Write a program the given year is 1996, a leap year."
   ]
  },
  {
   "cell_type": "code",
   "execution_count": 49,
   "metadata": {},
   "outputs": [
    {
     "name": "stdout",
     "output_type": "stream",
     "text": [
      "1996 Not a leap year\n"
     ]
    }
   ],
   "source": [
    "\n",
    "def leap_year(year):\n",
    "\n",
    "    if year % 4 ==0 :\n",
    "        \n",
    "        if year % 100 == 0:\n",
    "            \n",
    "            if year % 400 == 0:\n",
    "                \n",
    "                return True\n",
    "            else:\n",
    "                return False\n",
    "        return False\n",
    "year = 1996\n",
    "\n",
    "\n",
    "result = leap_year(year)\n",
    "\n",
    "if result :\n",
    "    print(year,\"is a leap year\")\n",
    "    \n",
    "else:\n",
    "    print(year,\"Not a leap year\")"
   ]
  },
  {
   "cell_type": "code",
   "execution_count": null,
   "metadata": {},
   "outputs": [],
   "source": []
  }
 ],
 "metadata": {
  "kernelspec": {
   "display_name": "butterfly",
   "language": "python",
   "name": "python3"
  },
  "language_info": {
   "codemirror_mode": {
    "name": "ipython",
    "version": 3
   },
   "file_extension": ".py",
   "mimetype": "text/x-python",
   "name": "python",
   "nbconvert_exporter": "python",
   "pygments_lexer": "ipython3",
   "version": "3.11.4"
  }
 },
 "nbformat": 4,
 "nbformat_minor": 2
}
