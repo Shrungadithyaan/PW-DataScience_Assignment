{
 "cells": [
  {
   "attachments": {},
   "cell_type": "markdown",
   "metadata": {},
   "source": [
    "### Q1. What is a database? Differentiate between SQL and NoSQL databases."
   ]
  },
  {
   "attachments": {},
   "cell_type": "markdown",
   "metadata": {},
   "source": [
    "A database is a structured collection of data that is organized and stored for efficient management and retrieval.\n",
    "\n",
    "SQL databases are based on the relational model, use SQL as the query language, have predefined schemas, provide strong data consistency, and are suitable for structured data.\n",
    "\n",
    "NoSQL databases are non-relational, offer flexibility in schema design, handle unstructured data well, provide high scalability and performance, and are commonly used for big data and real-time applications."
   ]
  },
  {
   "attachments": {},
   "cell_type": "markdown",
   "metadata": {},
   "source": [
    "### Q2. What is DDL? Explain why CREATE, DROP, ALTER, and TRUNCATE are used with an example."
   ]
  },
  {
   "attachments": {},
   "cell_type": "markdown",
   "metadata": {},
   "source": [
    "DDL stands for Data Definition Language. It is a set of SQL commands used to define and manipulate the structure of a database, such as creating, modifying, or deleting database objects.\n",
    "\n",
    "Here's an explanation of the commonly used DDL commands with examples:\n",
    "\n",
    "1. CREATE: The CREATE command is used to create a new database object, such as a table, view, index, or schema.\n",
    "\n",
    "   Example: Creating a table named \"employees\" with columns for employee ID, name, and salary:\n",
    "   \n",
    "   ```sql\n",
    "   CREATE TABLE employees (\n",
    "       id INT PRIMARY KEY,\n",
    "       name VARCHAR(50),\n",
    "       salary DECIMAL(10, 2)\n",
    "   );\n",
    "   ```\n",
    "\n",
    "2. DROP: The DROP command is used to remove an existing database object, such as a table, view, or index.\n",
    "\n",
    "   Example: Dropping the \"employees\" table:\n",
    "   \n",
    "   ```sql\n",
    "   DROP TABLE employees;\n",
    "   ```\n",
    "\n",
    "3. ALTER: The ALTER command is used to modify the structure of an existing database object, such as adding or renaming columns, modifying constraints, or altering table properties.\n",
    "\n",
    "   Example: Adding a new column \"department\" to the \"employees\" table:\n",
    "   \n",
    "   ```sql\n",
    "   ALTER TABLE employees ADD COLUMN department VARCHAR(50);\n",
    "   ```\n",
    "\n",
    "4. TRUNCATE: The TRUNCATE command is used to delete all rows from a table while keeping the table structure intact. It is a faster alternative to the DELETE command for removing all data from a table.\n",
    "\n",
    "   Example: Truncating the \"employees\" table:\n",
    "   \n",
    "   ```sql\n",
    "   TRUNCATE TABLE employees;\n",
    "   ```\n"
   ]
  },
  {
   "attachments": {},
   "cell_type": "markdown",
   "metadata": {},
   "source": [
    "### Q3. What is DML? Explain INSERT, UPDATE, and DELETE with an example."
   ]
  },
  {
   "attachments": {},
   "cell_type": "markdown",
   "metadata": {},
   "source": [
    "DML stands for Data Manipulation Language. It is a subset of SQL (Structured Query Language) used to manipulate the data within a database. DML commands are used to insert, update, and delete data in database tables. \n",
    "\n",
    "Here's an explanation of the commonly used DML commands with examples:\n",
    "\n",
    "1. INSERT: The INSERT command is used to add new rows of data into a table.\n",
    "\n",
    "   Example: Inserting a new record into the \"employees\" table:\n",
    "   \n",
    "   ```sql\n",
    "   INSERT INTO employees (id, name, salary) VALUES (1, 'John Doe', 50000);\n",
    "   ```\n",
    "\n",
    "2. UPDATE: The UPDATE command is used to modify existing data in a table.\n",
    "\n",
    "   Example: Updating the salary of an employee with ID 1 in the \"employees\" table:\n",
    "   \n",
    "   ```sql\n",
    "   UPDATE employees SET salary = 55000 WHERE id = 1;\n",
    "   ```\n",
    "\n",
    "3. DELETE: The DELETE command is used to remove one or more rows of data from a table.\n",
    "\n",
    "   Example: Deleting an employee record with ID 1 from the \"employees\" table:\n",
    "   \n",
    "   ```sql\n",
    "   DELETE FROM employees WHERE id = 1;\n",
    "   ```\n",
    "\n"
   ]
  },
  {
   "attachments": {},
   "cell_type": "markdown",
   "metadata": {},
   "source": [
    "### Q4. What is DQL? Explain SELECT with an example."
   ]
  },
  {
   "attachments": {},
   "cell_type": "markdown",
   "metadata": {},
   "source": [
    "DQL stands for Data Query Language. It is a subset of SQL (Structured Query Language) used to retrieve and query data from a database. DQL commands, primarily the SELECT command, are used to retrieve specific data from one or more database tables.\n",
    "\n",
    "Here's an explanation of the SELECT command with an example:\n",
    "\n",
    "SELECT: The SELECT command is used to retrieve data from one or more tables in a database. It allows you to specify the columns you want to retrieve, apply filters, sort the results, and perform various other operations.\n",
    "\n",
    "Example: Retrieving employee names and salaries from the \"employees\" table:\n",
    "\n",
    "```sql\n",
    "SELECT name, salary FROM employees;\n",
    "```\n",
    "\n",
    "This query will retrieve the \"name\" and \"salary\" columns from the \"employees\" table and return the result set containing the names and salaries of all employees.\n",
    "\n",
    "SELECT queries can also include various clauses and keywords to refine the data retrieval:\n",
    "\n",
    "- WHERE clause: It is used to apply conditions to filter the data based on specific criteria. For example, retrieving employees with a salary greater than 50000:\n",
    "\n",
    "  ```sql\n",
    "  SELECT name, salary FROM employees WHERE salary > 50000;\n",
    "  ```\n",
    "\n",
    "- ORDER BY clause: It is used to sort the result set based on one or more columns in ascending (ASC) or descending (DESC) order. For example, retrieving employees sorted by salary in descending order:\n",
    "\n",
    "  ```sql\n",
    "  SELECT name, salary FROM employees ORDER BY salary DESC;\n",
    "  ```\n",
    "\n",
    "- LIMIT clause: It is used to limit the number of rows returned in the result set. For example, retrieving the top 5 highest-paid employees:\n",
    "\n",
    "  ```sql\n",
    "  SELECT name, salary FROM employees ORDER BY salary DESC LIMIT 5;\n",
    "  ```\n",
    "\n",
    "The SELECT command is a powerful tool for querying and retrieving specific data from a database. It allows you to define the columns you need, filter the results, sort the data, and control the number of rows returned. It forms the foundation of data retrieval in SQL and enables you to extract meaningful information from your database tables."
   ]
  },
  {
   "attachments": {},
   "cell_type": "markdown",
   "metadata": {},
   "source": [
    "### Q5. Explain Primary Key and Foreign Key."
   ]
  },
  {
   "attachments": {},
   "cell_type": "markdown",
   "metadata": {},
   "source": [
    "- Primary Key: A primary key uniquely identifies each record in a table. It must have a unique value for each record and ensures data integrity and efficient access.\n",
    "\n",
    "- Foreign Key: A foreign key establishes relationships between tables by referencing the primary key of another table. It maintains referential integrity and allows for data consistency across related tables."
   ]
  },
  {
   "attachments": {},
   "cell_type": "markdown",
   "metadata": {},
   "source": [
    "### Q6. Write a python code to connect MySQL to python. Explain the cursor() and execute() method"
   ]
  },
  {
   "attachments": {},
   "cell_type": "markdown",
   "metadata": {},
   "source": [
    "Certainly! Here's an example Python code that connects to MySQL using the `mysql-connector-python` library, creates a cursor, and executes a SQL query:\n",
    "\n",
    "```python\n",
    "import mysql.connector\n",
    "\n",
    "# Establish a connection to the MySQL server\n",
    "mydb = mysql.connector.connect(\n",
    "  host=\"localhost\",\n",
    "  user=\"abc\",\n",
    "  password=\"password\"\n",
    ")\n",
    "\n",
    "# Create a cursor object to interact with the database\n",
    "cursor = mydb.cursor()\n",
    "\n",
    "# Execute a SQL query\n",
    "query = \"SELECT * FROM employees\"\n",
    "cursor.execute(query)\n",
    "\n",
    "# Fetch all the rows returned by the query\n",
    "rows = cursor.fetchall()\n",
    "\n",
    "# Process the fetched data\n",
    "for row in rows:\n",
    "    print(row)\n",
    "\n",
    "# Close the cursor and the connection\n",
    "cursor.close()\n",
    "connection.close()\n",
    "```\n",
    "\n",
    "Explanation of cursor() and execute() method:\n",
    "\n",
    "1. `cursor()`: The `cursor()` method creates a cursor object that allows us to execute SQL queries and fetch data from the MySQL database. The cursor acts as a handle or a control structure for the execution of SQL statements.\n",
    "\n",
    "2. `execute()`: The `execute()` method of the cursor object is used to execute a SQL query. It takes the SQL statement as a parameter. In the example code, we execute the `SELECT * FROM employees` query, which retrieves all rows from the \"employees\" table. The `execute()` method can also take additional parameters for passing values in parameterized queries.\n",
    "\n",
    "Once the query is executed, we can fetch the data using methods like `fetchone()`, `fetchmany()`, or `fetchall()`, depending on the number of rows we expect to retrieve. In the example, we use `fetchall()` to retrieve all rows returned by the query.\n",
    "\n",
    "\n",
    "\n",
    "Remember to replace the placeholders (`your_username`, `your_password`, `your_database`) in the code with your actual MySQL server credentials and database details to establish a successful connection."
   ]
  },
  {
   "attachments": {},
   "cell_type": "markdown",
   "metadata": {},
   "source": [
    "### Q7. Give the order of execution of SQL clauses in an SQL query."
   ]
  },
  {
   "attachments": {},
   "cell_type": "markdown",
   "metadata": {},
   "source": [
    "The order of execution of SQL clauses in an SQL query is as follows:\n",
    "\n",
    "1. FROM: Specifies the table or tables from which the data will be retrieved.\n",
    "\n",
    "2. WHERE: Filters the data based on specific conditions. Only the rows that meet the specified conditions will be included in the result set.\n",
    "\n",
    "3. GROUP BY: Groups the rows based on one or more columns. It is often used with aggregate functions like SUM, COUNT, AVG, etc.\n",
    "\n",
    "4. HAVING: Applies conditions to the grouped data. It filters the groups based on specific conditions.\n",
    "\n",
    "5. SELECT: Specifies the columns to be included in the result set. It can include calculations, aliases, and other expressions.\n",
    "\n",
    "6. DISTINCT: Removes duplicate rows from the result set.\n",
    "\n",
    "7. ORDER BY: Sorts the result set based on one or more columns in ascending (ASC) or descending (DESC) order.\n",
    "\n",
    "8. LIMIT: Specifies the maximum number of rows to be returned in the result set.\n",
    "\n"
   ]
  },
  {
   "cell_type": "code",
   "execution_count": null,
   "metadata": {},
   "outputs": [],
   "source": []
  },
  {
   "cell_type": "code",
   "execution_count": null,
   "metadata": {},
   "outputs": [],
   "source": []
  }
 ],
 "metadata": {
  "language_info": {
   "name": "python"
  },
  "orig_nbformat": 4
 },
 "nbformat": 4,
 "nbformat_minor": 2
}
