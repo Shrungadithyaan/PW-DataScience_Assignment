{
 "cells": [
  {
   "attachments": {},
   "cell_type": "markdown",
   "metadata": {},
   "source": [
    "### Q1. What is an API? Give an example, where an API is used in real life"
   ]
  },
  {
   "attachments": {},
   "cell_type": "markdown",
   "metadata": {},
   "source": [
    "API stands for Application Programming Interface. It is a set of rules and protocols that allows different software applications to communicate and interact with each other. APIs define the methods and data formats that applications can use to request and exchange information.\n",
    "\n",
    "1. Social Media Integration:\n",
    "   - Social media platforms like Facebook, Twitter, and Instagram provide APIs that allow developers to integrate their applications with these platforms.\n",
    "   - For example, a website or mobile app may use the Facebook API to allow users to log in using their Facebook credentials or share content directly to their Facebook profiles.\n",
    "\n",
    "2. Payment Gateways:\n",
    "   - Payment gateways, such as PayPal, Stripe, and Braintree, provide APIs that enable businesses to accept online payments.\n",
    "   - E-commerce websites can integrate these APIs to process payments securely and provide a seamless checkout experience for their customers.\n",
    "\n",
    "3. Maps and Geolocation Services:\n",
    "   - Services like Google Maps and Mapbox provide APIs for developers to embed maps, geolocation, and routing features in their applications.\n",
    "   - Applications can use these APIs to display maps, search for locations, get directions, and perform geolocation-based operations.\n",
    "\n",
    "4. Weather Data:\n",
    "   - Weather service providers, such as OpenWeatherMap and WeatherAPI, offer APIs to access weather data programmatically.\n",
    "   - Applications can use these APIs to retrieve current weather conditions, forecasts, and historical weather data for various locations.\n",
    "\n"
   ]
  },
  {
   "attachments": {},
   "cell_type": "markdown",
   "metadata": {},
   "source": [
    "### Q2. Give advantages and disadvantages of using API. "
   ]
  },
  {
   "attachments": {},
   "cell_type": "markdown",
   "metadata": {},
   "source": [
    "Advantages of using APIs:\n",
    "- Modularity and reusability\n",
    "- Improved efficiency and time-to-market\n",
    "- Access to external services and functionalities\n",
    "- Seamless integration between systems\n",
    "- Scalability and flexibility\n",
    "\n",
    "Disadvantages of using APIs:\n",
    "- Dependency on external services\n",
    "- Limited control over functionality and changes\n",
    "- Versioning and compatibility challenges\n",
    "- Security risks if not properly implemented\n",
    "- Learning curve and documentation requirements"
   ]
  },
  {
   "attachments": {},
   "cell_type": "markdown",
   "metadata": {},
   "source": [
    "### Q3. What is a Web API? Differentiate between API and Web API."
   ]
  },
  {
   "attachments": {},
   "cell_type": "markdown",
   "metadata": {},
   "source": [
    "Differentiation between API and Web API:\n",
    "\n",
    "API:\n",
    "- API (Application Programming Interface) is a general term that refers to a set of rules, protocols, and tools that enable software applications to communicate and interact with each other.\n",
    "- APIs can come in various forms, such as libraries, frameworks, protocols, or specifications.\n",
    "- APIs can be used for different purposes, including but not limited to web services.\n",
    "- APIs can operate at various levels, including operating system APIs, programming language APIs, and service APIs.\n",
    "\n",
    "Web API:\n",
    "- A Web API specifically refers to an API that is designed for communication over the web using standard web protocols like HTTP.\n",
    "- Web APIs follow the principles of REST (Representational State Transfer) or other similar architectural styles.\n",
    "- Web APIs typically expose endpoints (URLs) that clients can send HTTP requests to and receive responses in a structured format, often using JSON or XML.\n",
    "- Web APIs are commonly used for building web applications, mobile apps, or any software that needs to consume or provide data over the internet.\n"
   ]
  },
  {
   "attachments": {},
   "cell_type": "markdown",
   "metadata": {},
   "source": [
    "### Q4. Explain REST and SOAP Architecture. Mention shortcomings of SOAP."
   ]
  },
  {
   "attachments": {},
   "cell_type": "markdown",
   "metadata": {},
   "source": [
    "REST Architecture:\n",
    "- Stateless, client-server communication model over the web\n",
    "- Uses HTTP methods (GET, POST, PUT, DELETE) and URLs for operations\n",
    "- Emphasizes simplicity, scalability, and interoperability\n",
    "- Data transfer typically in JSON or XML format\n",
    "\n",
    "SOAP Architecture:\n",
    "- Protocol for structured information exchange in web services\n",
    "- XML-based messages sent over various protocols\n",
    "- Supports advanced features like security and reliability\n",
    "- More complex, slower, and less human-readable than REST\n",
    "\n",
    "Shortcomings of SOAP:\n",
    "- Complexity and overhead compared to REST\n",
    "- Larger message size leading to increased network traffic\n",
    "- Lack of human-readability for debugging\n",
    "- Tight coupling and contract dependencies\n",
    "- Limited protocol support compared to REST"
   ]
  },
  {
   "cell_type": "code",
   "execution_count": null,
   "metadata": {},
   "outputs": [],
   "source": []
  },
  {
   "cell_type": "code",
   "execution_count": null,
   "metadata": {},
   "outputs": [],
   "source": []
  }
 ],
 "metadata": {
  "language_info": {
   "name": "python"
  },
  "orig_nbformat": 4
 },
 "nbformat": 4,
 "nbformat_minor": 2
}
