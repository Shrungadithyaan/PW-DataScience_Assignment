{
 "cells": [
  {
   "cell_type": "markdown",
   "metadata": {},
   "source": [
    "## ML Assignment 1"
   ]
  },
  {
   "cell_type": "markdown",
   "metadata": {},
   "source": [
    "### Q1) Explain the following with an example\n",
    "\n",
    "1. Artificial Intelligence\n",
    "2. Machine Learning \n",
    "3. Deep learning"
   ]
  },
  {
   "cell_type": "markdown",
   "metadata": {},
   "source": [
    "1. Artificial Intelligence \n",
    "\n",
    "    - AI is a smart Application that can perform its own task without any      human interaction \n",
    "    - These tasks include problem-solving, reasoning, learning, understanding natural language, and adapting to new situations.\n",
    "    - AI can be classified into two categories: Narrow AI, which is designed for specific tasks, and General AI, which aims to replicate human-level intelligence.\n",
    "\n",
    "    Examples: self Driving car, Automated Robots\n",
    "\n",
    "2. Machine Learning\n",
    "\n",
    "    - ML is a subset of AI that focuses on the development of algorithms and statistical models that enable computers to learn from and make predictions or decisions based on data\n",
    "    - It involves the use of data to train models, which can then generalize patterns and make predictions or decisions on new, unseen data.\n",
    "    -ML techniques include supervised learning, unsupervised learning, and reinforcement learning, among others.\n",
    "\n",
    "    Example: Recommendation system \n",
    "\n",
    "3. Deep Learning \n",
    "\n",
    "    - Deep Learning is a specialized subfield of ML that utilizes artificial neural networks with many layers (deep neural networks) to solve complex problems.\n",
    "    - DL has been particularly successful in tasks such as image recognition, natural language processing, and speech recognition.\n",
    "    - Deep neural networks automatically learn hierarchical features from data, making them suitable for tasks with large and complex datasets.\n",
    "\n",
    "    Example: Image Classification, Object Detection, Chatbot"
   ]
  },
  {
   "cell_type": "markdown",
   "metadata": {},
   "source": [
    "### Q2) What is supervised Learning ? List some example of supervised Learning \n"
   ]
  },
  {
   "cell_type": "markdown",
   "metadata": {},
   "source": [
    "Supervised Learning is a machine learning technique where the algorithm learns from labeled training data to make predictions or decisions.\n",
    "\n",
    "Example: Stock Price predicaton \n"
   ]
  },
  {
   "cell_type": "markdown",
   "metadata": {},
   "source": [
    "### Q3)  What is unsupervised Learning ? List some example of unsupervised Learning"
   ]
  },
  {
   "cell_type": "markdown",
   "metadata": {},
   "source": [
    "Unsupervised Learning is a machine learning paradigm where the algorithm is given unlabeled data and tasked with finding patterns, structures, or relationships within the data without any predefined outputs or target variables\n",
    "\n",
    "Example : Anomaly Detection, Recommendation Systems "
   ]
  },
  {
   "cell_type": "markdown",
   "metadata": {},
   "source": [
    "### Q4) What is the diffent between AI, ML, DL, and DS?  "
   ]
  },
  {
   "cell_type": "markdown",
   "metadata": {},
   "source": [
    "\n",
    "1. **Artificial Intelligence (AI) :**\n",
    "   - AI is the overarching field that aims to create computer systems capable of performing tasks that typically require human intelligence, such as problem-solving, reasoning, understanding natural language, and learning.\n",
    "\n",
    "2. **Machine Learning (ML) :**\n",
    "   - ML is a subset of AI that focuses on developing algorithms and models that enable computers to learn from data and make predictions or decisions without being explicitly programmed.\n",
    "\n",
    "3. **Deep Learning (DL):**\n",
    "   - DL is a specialized subfield of ML that uses deep neural networks with many layers to handle complex tasks, particularly in areas like image recognition, natural language processing, and speech recognition.\n",
    "\n",
    "4. **Data Science (DS):**\n",
    "   - DS is an interdisciplinary field that combines aspects of statistics, data analysis, machine learning, and domain knowledge to extract insights, patterns, and knowledge from large and complex datasets.\n"
   ]
  },
  {
   "cell_type": "markdown",
   "metadata": {},
   "source": [
    "### Q5) What are the main difference between supervised, unsupervised and semi-supervised Learning\n",
    " "
   ]
  },
  {
   "cell_type": "markdown",
   "metadata": {},
   "source": [
    "\n",
    "\n",
    "   - **Supervised Learning**: In supervised learning, the training data is labeled, meaning that each example in the dataset is associated with a known output or target variable. The algorithm learns to map inputs to these labeled outputs.\n",
    "   - **Unsupervised Learning**: Unsupervised learning deals with unlabeled data. There are no predefined target variables, and the algorithm's goal is to find patterns or structure within the data on its own.\n",
    "   - **Semi-Supervised Learning**: Semi-supervised learning falls in between; it uses a combination of labeled and unlabeled data for training. Some data points have known labels, while others do not.\n",
    "\n"
   ]
  },
  {
   "cell_type": "markdown",
   "metadata": {},
   "source": [
    "### Q6- What is train, test and validation split? Explain the importance of each term"
   ]
  },
  {
   "cell_type": "markdown",
   "metadata": {},
   "source": [
    "1. **Training Set**:\n",
    "   - **Purpose**: The training set is the largest portion of the dataset and is used to train the machine learning model. The model learns patterns, relationships, and features in the data from this subset.\n",
    "   - **Importance**: The training set is critical because it is where the model acquires its knowledge. It helps the model adjust its internal parameters to minimize errors and make accurate predictions. A well-trained model should generalize from the training data to unseen data.\n",
    "\n",
    "2. **Testing Set**:\n",
    "   - **Purpose**: The testing set is a separate portion of the dataset that is not used during the model training phase. Instead, it is reserved for evaluating the model's performance after training.\n",
    "   - **Importance**: The testing set serves as an independent benchmark to assess how well the model generalizes to new, unseen data. It helps estimate the model's accuracy, precision, recall, F1-score, and other performance metrics. If the model performs well on the testing set, it indicates that it has learned meaningful patterns from the training data.\n",
    "\n",
    "3. **Validation Set**:\n",
    "   - **Purpose**: The validation set is a smaller portion of the data, distinct from both the training and testing sets. It is used during the model development and hyperparameter tuning stages.\n",
    "   - **Importance**: The validation set is crucial for fine-tuning the model's hyperparameters (e.g., learning rate, regularization strength) and for preventing overfitting. By evaluating the model's performance on the validation set, you can make adjustments to optimize the model's generalization capabilities.\n",
    "\n",
    "\n"
   ]
  },
  {
   "cell_type": "markdown",
   "metadata": {},
   "source": [
    "### Q7) How Can  unsupervised learning be used in Anomaly detection ?"
   ]
  },
  {
   "cell_type": "markdown",
   "metadata": {},
   "source": [
    "Anomaly detection using unsupervised learning is a machine learning approach that aims to identify unusual or abnormal patterns or data points within a dataset. Unlike supervised learning, where the algorithm is trained on labeled data with predefined categories, unsupervised learning works on unlabeled data and seeks to find deviations from the norm."
   ]
  },
  {
   "cell_type": "markdown",
   "metadata": {},
   "source": [
    "### Q8)  List down some commonly used supervised learning algorithms and unsupervised  learning algorithms"
   ]
  },
  {
   "cell_type": "markdown",
   "metadata": {},
   "source": [
    "- supervised learning algorithms\n",
    "  - Linear regression\n",
    "  - Logistic regression\n",
    "  - Decision tree\n",
    "  - Support vector machine\n",
    "  - Random forest\n",
    "\n",
    "  \n",
    "\n",
    "- unsupervised learning algorithms\n",
    "  - K-means clustering\n",
    "  - Hierarchical clustering\n",
    "  - Principal component analysis \n",
    "  - Apriori algorithm"
   ]
  },
  {
   "cell_type": "code",
   "execution_count": null,
   "metadata": {},
   "outputs": [],
   "source": []
  }
 ],
 "metadata": {
  "kernelspec": {
   "display_name": "base",
   "language": "python",
   "name": "python3"
  },
  "language_info": {
   "codemirror_mode": {
    "name": "ipython",
    "version": 3
   },
   "file_extension": ".py",
   "mimetype": "text/x-python",
   "name": "python",
   "nbconvert_exporter": "python",
   "pygments_lexer": "ipython3",
   "version": "3.11.4"
  },
  "orig_nbformat": 4
 },
 "nbformat": 4,
 "nbformat_minor": 2
}
