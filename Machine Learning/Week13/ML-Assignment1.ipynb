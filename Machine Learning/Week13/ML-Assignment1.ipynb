{
 "cells": [
  {
   "cell_type": "markdown",
   "metadata": {},
   "source": [
    "## ML Assignment 1"
   ]
  },
  {
   "cell_type": "markdown",
   "metadata": {},
   "source": [
    "### Q1) Explain the following with an example\n",
    "\n",
    "1. Artificial Intelligence\n",
    "2. Machine Learning \n",
    "3. Deep learning"
   ]
  },
  {
   "cell_type": "markdown",
   "metadata": {},
   "source": [
    "1. Artificial Intelligence \n",
    "\n",
    "    - AI is a smart Application that can perform its own task without any      human interaction \n",
    "    - These tasks include problem-solving, reasoning, learning, understanding natural language, and adapting to new situations.\n",
    "    - AI can be classified into two categories: Narrow AI, which is designed for specific tasks, and General AI, which aims to replicate human-level intelligence.\n",
    "\n",
    "    Examples: self Driving car, Automated Robots\n",
    "\n",
    "2. Machine Learning\n",
    "\n",
    "    - ML is a subset of AI that focuses on the development of algorithms and statistical models that enable computers to learn from and make predictions or decisions based on data\n",
    "    - It involves the use of data to train models, which can then generalize patterns and make predictions or decisions on new, unseen data.\n",
    "    -ML techniques include supervised learning, unsupervised learning, and reinforcement learning, among others.\n",
    "\n",
    "    Example: Recommendation system \n",
    "\n",
    "3. Deep Learning \n",
    "\n",
    "    - Deep Learning is a specialized subfield of ML that utilizes artificial neural networks with many layers (deep neural networks) to solve complex problems.\n",
    "    - DL has been particularly successful in tasks such as image recognition, natural language processing, and speech recognition.\n",
    "    - Deep neural networks automatically learn hierarchical features from data, making them suitable for tasks with large and complex datasets.\n",
    "\n",
    "    Example: Image Classification, Object Detection, Chatbot"
   ]
  },
  {
   "cell_type": "markdown",
   "metadata": {},
   "source": [
    "Q2) What is supervised Learning ? List some example of supervised Learning \n"
   ]
  },
  {
   "cell_type": "markdown",
   "metadata": {},
   "source": [
    "Supervised Learning is a machine learning technique where the algorithm learns from labeled training data to make predictions or decisions.\n",
    "\n",
    "Example: Stock Price predicaton \n"
   ]
  },
  {
   "cell_type": "markdown",
   "metadata": {},
   "source": [
    "Q3)  What is unsupervised Learning ? List some example of unsupervised Learning"
   ]
  },
  {
   "cell_type": "markdown",
   "metadata": {},
   "source": [
    "Unsupervised Learning is a machine learning paradigm where the algorithm is given unlabeled data and tasked with finding patterns, structures, or relationships within the data without any predefined outputs or target variables\n",
    "\n",
    "Example : Anomaly Detection, Recommendation Systems "
   ]
  },
  {
   "cell_type": "code",
   "execution_count": null,
   "metadata": {},
   "outputs": [],
   "source": []
  }
 ],
 "metadata": {
  "language_info": {
   "name": "python"
  },
  "orig_nbformat": 4
 },
 "nbformat": 4,
 "nbformat_minor": 2
}
