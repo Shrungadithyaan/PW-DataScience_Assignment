{
 "cells": [
  {
   "attachments": {},
   "cell_type": "markdown",
   "metadata": {},
   "source": [
    "### Q1. What is multithreading in python? Why is it used? Name the module used to handle threads in python."
   ]
  },
  {
   "attachments": {},
   "cell_type": "markdown",
   "metadata": {},
   "source": [
    "Multithreading in Python allows concurrent execution of multiple threads within a process, improving performance and responsiveness. It is used to handle concurrent or parallel tasks efficiently. The `threading` module is used to handle threads in Python."
   ]
  },
  {
   "attachments": {},
   "cell_type": "markdown",
   "metadata": {},
   "source": [
    "### Q2. Why threading module used? Write the use of the following functions\n",
    "\n",
    "activeCount()\n",
    "\n",
    "currentThread()\n",
    "\n",
    "enumerate()"
   ]
  },
  {
   "attachments": {},
   "cell_type": "markdown",
   "metadata": {},
   "source": [
    "The threading module in Python is used to handle threads and provides a high-level interface for creating, managing, and synchronizing threads. It offers various functions and classes to facilitate multi-threaded programming. "
   ]
  },
  {
   "attachments": {},
   "cell_type": "markdown",
   "metadata": {},
   "source": [
    "__activeCount()__: This function returns the number of Thread objects currently alive. It provides the count of active threads within the current program."
   ]
  },
  {
   "cell_type": "code",
   "execution_count": 8,
   "metadata": {},
   "outputs": [
    {
     "name": "stdout",
     "output_type": "stream",
     "text": [
      "Thread execution\n",
      "Thread execution\n",
      "Active threads: 6\n",
      "Active threads: [<_MainThread(MainThread, started 16332)>, <Thread(IOPub, started daemon 8200)>, <Heartbeat(Heartbeat, started daemon 11360)>, <ControlThread(Control, started daemon 5256)>, <HistorySavingThread(IPythonHistorySavingThread, started 17592)>, <ParentPollerWindows(Thread-4, started daemon 13016)>]\n"
     ]
    },
    {
     "name": "stderr",
     "output_type": "stream",
     "text": [
      "C:\\Users\\Dell\\AppData\\Local\\Temp\\ipykernel_7460\\1597057933.py:12: DeprecationWarning: activeCount() is deprecated, use active_count() instead\n",
      "  print(\"Active threads:\", threading.activeCount())\n"
     ]
    }
   ],
   "source": [
    "import threading\n",
    "\n",
    "def my_function():\n",
    "    print(\"Thread execution\")\n",
    "\n",
    "thread1 = threading.Thread(target=my_function)\n",
    "thread2 = threading.Thread(target=my_function)\n",
    "\n",
    "thread1.start()\n",
    "thread2.start()\n",
    "\n",
    "print(\"Active threads:\", threading.activeCount())\n",
    "print(\"Active threads:\", threading.enumerate())\n"
   ]
  },
  {
   "attachments": {},
   "cell_type": "markdown",
   "metadata": {},
   "source": [
    "__currentThread()__: This function returns the current Thread object corresponding to the caller's thread. It allows you to obtain a reference to the currently executing thread."
   ]
  },
  {
   "cell_type": "code",
   "execution_count": 5,
   "metadata": {},
   "outputs": [
    {
     "name": "stdout",
     "output_type": "stream",
     "text": [
      "Current Thread: Thread 1\n",
      "Current Thread: Thread 2\n"
     ]
    },
    {
     "name": "stderr",
     "output_type": "stream",
     "text": [
      "C:\\Users\\Dell\\AppData\\Local\\Temp\\ipykernel_7460\\4101422759.py:4: DeprecationWarning: currentThread() is deprecated, use current_thread() instead\n",
      "  current_thread = threading.currentThread()\n"
     ]
    }
   ],
   "source": [
    "import threading\n",
    "\n",
    "def my_function():\n",
    "    current_thread = threading.currentThread()\n",
    "    print(\"Current Thread:\", current_thread.name)\n",
    "\n",
    "thread1 = threading.Thread(target=my_function, name=\"Thread 1\")\n",
    "thread2 = threading.Thread(target=my_function, name=\"Thread 2\")\n",
    "\n",
    "thread1.start()\n",
    "thread2.start()\n"
   ]
  },
  {
   "attachments": {},
   "cell_type": "markdown",
   "metadata": {},
   "source": [
    "__enumerate()__: This function returns a list of all Thread objects currently alive. It allows you to obtain a list of all active threads."
   ]
  },
  {
   "cell_type": "code",
   "execution_count": 6,
   "metadata": {},
   "outputs": [
    {
     "name": "stdout",
     "output_type": "stream",
     "text": [
      "Thread execution\n",
      "Thread execution\n",
      "Active threads: [<_MainThread(MainThread, started 16332)>, <Thread(IOPub, started daemon 8200)>, <Heartbeat(Heartbeat, started daemon 11360)>, <ControlThread(Control, started daemon 5256)>, <HistorySavingThread(IPythonHistorySavingThread, started 17592)>, <ParentPollerWindows(Thread-4, started daemon 13016)>]\n"
     ]
    }
   ],
   "source": [
    "import threading\n",
    "\n",
    "def my_function():\n",
    "    print(\"Thread execution\")\n",
    "\n",
    "thread1 = threading.Thread(target=my_function)\n",
    "thread2 = threading.Thread(target=my_function)\n",
    "\n",
    "thread1.start()\n",
    "thread2.start()\n",
    "\n",
    "threads = threading.enumerate()\n",
    "print(\"Active threads:\", threads)\n"
   ]
  },
  {
   "attachments": {},
   "cell_type": "markdown",
   "metadata": {},
   "source": [
    "### Q3. Explain the following functions\n",
    "\n",
    " run()\n",
    " \n",
    " start()\n",
    "    \n",
    " join()\n",
    "\n",
    " isAlive()"
   ]
  },
  {
   "attachments": {},
   "cell_type": "markdown",
   "metadata": {},
   "source": [
    "__run()__: The run() method is responsible for defining the behavior of a thread when it is executed. It is called internally by the start() method and contains the code that will be executed in the thread. You can override this method in a custom thread class to define the specific task or functionality of the thread."
   ]
  },
  {
   "cell_type": "code",
   "execution_count": 9,
   "metadata": {},
   "outputs": [
    {
     "name": "stdout",
     "output_type": "stream",
     "text": [
      "Thread executing\n"
     ]
    }
   ],
   "source": [
    "import threading\n",
    "\n",
    "class MyThread(threading.Thread):\n",
    "    def run(self):\n",
    "        print(\"Thread executing\")\n",
    "\n",
    "thread = MyThread()\n",
    "thread.start()\n"
   ]
  },
  {
   "attachments": {},
   "cell_type": "markdown",
   "metadata": {},
   "source": [
    "__start()__: The start() method is used to start the execution of a thread. It initializes the thread, calls its run() method, and begins its execution. Each thread should be started using this method to ensure proper thread execution."
   ]
  },
  {
   "cell_type": "code",
   "execution_count": 10,
   "metadata": {},
   "outputs": [
    {
     "name": "stdout",
     "output_type": "stream",
     "text": [
      "Thread executing\n"
     ]
    }
   ],
   "source": [
    "import threading\n",
    "\n",
    "def my_function():\n",
    "    print(\"Thread executing\")\n",
    "\n",
    "thread = threading.Thread(target=my_function)\n",
    "thread.start()\n"
   ]
  },
  {
   "attachments": {},
   "cell_type": "markdown",
   "metadata": {},
   "source": [
    "__join()__: The join() method is used to synchronize the execution of multiple threads. It blocks the execution of the calling thread until the thread on which it is called completes its execution. This allows one thread to wait for another thread to finish before proceeding."
   ]
  },
  {
   "cell_type": "code",
   "execution_count": 11,
   "metadata": {},
   "outputs": [
    {
     "name": "stdout",
     "output_type": "stream",
     "text": [
      "Thread executing\n",
      "Main thread continuing execution\n"
     ]
    }
   ],
   "source": [
    "import threading\n",
    "\n",
    "def my_function():\n",
    "    print(\"Thread executing\")\n",
    "\n",
    "thread = threading.Thread(target=my_function)\n",
    "thread.start()\n",
    "thread.join()\n",
    "print(\"Main thread continuing execution\")\n"
   ]
  },
  {
   "attachments": {},
   "cell_type": "markdown",
   "metadata": {},
   "source": [
    "__isAlive()__: The isAlive() method is used to check if a thread is currently executing or alive. It returns True if the thread is still running and False otherwise."
   ]
  },
  {
   "cell_type": "code",
   "execution_count": 18,
   "metadata": {},
   "outputs": [
    {
     "name": "stdout",
     "output_type": "stream",
     "text": [
      "Thread is alive: True\n",
      "Thread is alive: False\n"
     ]
    }
   ],
   "source": [
    "import threading\n",
    "import time\n",
    "\n",
    "def my_function():\n",
    "    time.sleep(2)\n",
    "\n",
    "thread = threading.Thread(target=my_function)\n",
    "thread.start()\n",
    "print(\"Thread is alive:\", thread.is_alive())\n",
    "time.sleep(3)\n",
    "print(\"Thread is alive:\", thread.is_alive())\n"
   ]
  },
  {
   "attachments": {},
   "cell_type": "markdown",
   "metadata": {},
   "source": [
    "### Q4.  Write a python program to create two threads. Thread one must print the list of squares and thread two must print the list of cubes."
   ]
  },
  {
   "cell_type": "code",
   "execution_count": 23,
   "metadata": {},
   "outputs": [
    {
     "name": "stdout",
     "output_type": "stream",
     "text": [
      "Square : 1\n",
      "Square : 4\n",
      "Square : 9\n",
      "Square : 16\n",
      "Square : 25\n",
      "Cubes : 1\n",
      "Cubes : 8\n",
      "Cubes : 27\n",
      "Cubes : 64\n",
      "Cubes : 125\n"
     ]
    }
   ],
   "source": [
    "import threading\n",
    "\n",
    "def print_squares(numbers):\n",
    "    for num in numbers:\n",
    "        square = num ** 2\n",
    "        print(\"Square :\",square)\n",
    "\n",
    "\n",
    "def print_cubes(numbers):\n",
    "    for num in numbers:\n",
    "        cubes = num ** 3\n",
    "        print(\"Cubes :\",cubes)      \n",
    "\n",
    "numbers = [1,2,3,4,5]\n",
    "\n",
    "thread1 = threading.Thread(target=print_squares,args=(numbers,))\n",
    "thread2 = threading.Thread(target=print_cubes,args=(numbers,))\n",
    "\n",
    "thread1.start()\n",
    "thread2.start()\n",
    "\n",
    "thread1.join()\n",
    "thread2.join()"
   ]
  },
  {
   "attachments": {},
   "cell_type": "markdown",
   "metadata": {},
   "source": [
    "### Q5. State advantages and disadvantages of multithreading"
   ]
  },
  {
   "attachments": {},
   "cell_type": "markdown",
   "metadata": {},
   "source": [
    "Advantages of Multithreading:\n",
    "- Concurrency and improved performance.\n",
    "- Responsiveness and prevention of application freezing.\n",
    "- Efficient resource utilization and parallel execution.\n",
    "- Improved throughput and execution time.\n",
    "- Modular and maintainable code organization.\n",
    "\n",
    "Disadvantages of Multithreading:\n",
    "- Increased complexity in design and implementation.\n",
    "- Challenges in thread synchronization and avoiding issues like race conditions.\n",
    "- Difficulties in debugging and testing.\n",
    "- Overhead in terms of memory and context switching.\n",
    "- Potential for new types of bugs related to multithreading."
   ]
  },
  {
   "attachments": {},
   "cell_type": "markdown",
   "metadata": {},
   "source": [
    "### Q6. Explain deadlocks and race conditions."
   ]
  },
  {
   "attachments": {},
   "cell_type": "markdown",
   "metadata": {},
   "source": [
    "\n",
    "\n",
    "**Deadlock**: Deadlock is a situation where two or more threads or processes are blocked indefinitely, each waiting for the other to release a resource. It leads to system freeze or unresponsiveness. Deadlocks occur due to improper resource management and synchronization.\n",
    "\n",
    "**Race Condition**: Race condition occurs when multiple threads or processes access a shared resource simultaneously, and the final outcome depends on the timing or order of their execution. It leads to unpredictable and non-deterministic results. Proper synchronization mechanisms are used to prevent race conditions and ensure consistent program behavior."
   ]
  },
  {
   "cell_type": "code",
   "execution_count": null,
   "metadata": {},
   "outputs": [],
   "source": []
  }
 ],
 "metadata": {
  "kernelspec": {
   "display_name": "Python 3",
   "language": "python",
   "name": "python3"
  },
  "language_info": {
   "codemirror_mode": {
    "name": "ipython",
    "version": 3
   },
   "file_extension": ".py",
   "mimetype": "text/x-python",
   "name": "python",
   "nbconvert_exporter": "python",
   "pygments_lexer": "ipython3",
   "version": "3.10.11"
  },
  "orig_nbformat": 4
 },
 "nbformat": 4,
 "nbformat_minor": 2
}
