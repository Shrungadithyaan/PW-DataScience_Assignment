{
 "cells": [
  {
   "attachments": {},
   "cell_type": "markdown",
   "metadata": {},
   "source": [
    "### Q1. What is an Exception in python? Write the difference between Exceptions and Syntax errors."
   ]
  },
  {
   "attachments": {},
   "cell_type": "markdown",
   "metadata": {},
   "source": [
    "an exception is an event that occurs during the execution of a program, which disrupts the normal flow of the program's instructions. When an exceptional situation arises, such as an error or an unexpected condition, an exception is raised. This allows the program to handle the exceptional situation gracefully and take appropriate actions\n",
    "\n",
    "Exceptions and syntax errors are both types of errors that can occur in Python programming, but they have distinct characteristics and occur at different stages of the program's execution.\n",
    "\n",
    "\n",
    "#### Syntax Errors:\n",
    "\n",
    "Syntax errors occur when there is a mistake in the syntax or structure of the program. These errors violate the rules of the Python language and prevent the code from being parsed and executed.\n",
    "\n",
    "Syntax errors are detected by the Python interpreter during the parsing phase, which occurs before the program is executed. When a syntax error is encountered, the interpreter raises an error and provides a specific error message that points to the location of the error in the code.\n",
    "\n",
    "Syntax errors cannot be caught or handled using exception handling mechanisms because they occur before the program starts executing. To resolve syntax errors, you need to identify and correct the specific mistake in the code\n",
    "\n",
    "#### Exceptions:\n",
    "\n",
    "Exceptions occur during the execution of a program when an error or an exceptional situation is encountered, such as dividing a number by zero, accessing a file that doesn't exist, or calling a function with incorrect arguments.\n",
    "\n",
    "Exceptions are raised dynamically during program execution when an exceptional condition occurs\n",
    "\n",
    "They can be raised by the Python interpreter or explicitly raised by the programmer using the raise statement\n",
    "\n",
    "Exceptions can be caught and handled using exception handling mechanisms, primarily the try-except block."
   ]
  },
  {
   "attachments": {},
   "cell_type": "markdown",
   "metadata": {},
   "source": [
    "### Q2. What happens when an exception is not handled? Explain with an example."
   ]
  },
  {
   "attachments": {},
   "cell_type": "markdown",
   "metadata": {},
   "source": [
    "When an exception is not handled in a program, it leads to an unhandled exception error, causing the program to terminate abruptly. The error message displays information about the unhandled exception, such as the type of exception and the traceback, which shows the sequence of function calls that led to the exception."
   ]
  },
  {
   "cell_type": "code",
   "execution_count": 3,
   "metadata": {},
   "outputs": [
    {
     "ename": "ZeroDivisionError",
     "evalue": "division by zero",
     "output_type": "error",
     "traceback": [
      "\u001b[1;31m---------------------------------------------------------------------------\u001b[0m",
      "\u001b[1;31mZeroDivisionError\u001b[0m                         Traceback (most recent call last)",
      "\u001b[1;32me:\\Data_Science\\PW\\PW-Assignment\\Week5\\Assignment7.ipynb Cell 5\u001b[0m in \u001b[0;36m<cell line: 8>\u001b[1;34m()\u001b[0m\n\u001b[0;32m      <a href='vscode-notebook-cell:/e%3A/Data_Science/PW/PW-Assignment/Week5/Assignment7.ipynb#W0sZmlsZQ%3D%3D?line=4'>5</a>\u001b[0m num \u001b[39m=\u001b[39m \u001b[39m10\u001b[39m\n\u001b[0;32m      <a href='vscode-notebook-cell:/e%3A/Data_Science/PW/PW-Assignment/Week5/Assignment7.ipynb#W0sZmlsZQ%3D%3D?line=5'>6</a>\u001b[0m den \u001b[39m=\u001b[39m \u001b[39m0\u001b[39m\n\u001b[1;32m----> <a href='vscode-notebook-cell:/e%3A/Data_Science/PW/PW-Assignment/Week5/Assignment7.ipynb#W0sZmlsZQ%3D%3D?line=7'>8</a>\u001b[0m new \u001b[39m=\u001b[39m division(num,den)\n\u001b[0;32m     <a href='vscode-notebook-cell:/e%3A/Data_Science/PW/PW-Assignment/Week5/Assignment7.ipynb#W0sZmlsZQ%3D%3D?line=9'>10</a>\u001b[0m \u001b[39mprint\u001b[39m(new)\n",
      "\u001b[1;32me:\\Data_Science\\PW\\PW-Assignment\\Week5\\Assignment7.ipynb Cell 5\u001b[0m in \u001b[0;36mdivision\u001b[1;34m(a, b)\u001b[0m\n\u001b[0;32m      <a href='vscode-notebook-cell:/e%3A/Data_Science/PW/PW-Assignment/Week5/Assignment7.ipynb#W0sZmlsZQ%3D%3D?line=0'>1</a>\u001b[0m \u001b[39mdef\u001b[39;00m \u001b[39mdivision\u001b[39m(a,b):\n\u001b[1;32m----> <a href='vscode-notebook-cell:/e%3A/Data_Science/PW/PW-Assignment/Week5/Assignment7.ipynb#W0sZmlsZQ%3D%3D?line=1'>2</a>\u001b[0m     result \u001b[39m=\u001b[39m a\u001b[39m/\u001b[39;49mb\n\u001b[0;32m      <a href='vscode-notebook-cell:/e%3A/Data_Science/PW/PW-Assignment/Week5/Assignment7.ipynb#W0sZmlsZQ%3D%3D?line=2'>3</a>\u001b[0m     \u001b[39mreturn\u001b[39;00m result\n",
      "\u001b[1;31mZeroDivisionError\u001b[0m: division by zero"
     ]
    }
   ],
   "source": [
    "def division(a,b):\n",
    "    result = a/b\n",
    "    return result\n",
    "\n",
    "num = 10\n",
    "den = 0\n",
    "\n",
    "new = division(num,den)\n",
    "\n",
    "print(new)"
   ]
  },
  {
   "attachments": {},
   "cell_type": "markdown",
   "metadata": {},
   "source": [
    "### Q3. Which Python statements are used to catch and handle exceptions? Explain with an example."
   ]
  },
  {
   "attachments": {},
   "cell_type": "markdown",
   "metadata": {},
   "source": [
    "the try and except statements are used to catch and handle exceptions. The try block contains the code that may raise an exception, and the except block defines the code to be executed when a specific exception is raised."
   ]
  },
  {
   "cell_type": "code",
   "execution_count": 4,
   "metadata": {},
   "outputs": [
    {
     "name": "stdout",
     "output_type": "stream",
     "text": [
      "division by zero\n",
      "None\n"
     ]
    }
   ],
   "source": [
    "def division(a,b):\n",
    "    try:\n",
    "        result = a/b\n",
    "        return result\n",
    "    \n",
    "    except ZeroDivisionError as e:\n",
    "        print(e)\n",
    "\n",
    "num = 10\n",
    "din = 0\n",
    "\n",
    "div  = division(num,din)\n",
    "print(div)"
   ]
  },
  {
   "attachments": {},
   "cell_type": "markdown",
   "metadata": {},
   "source": [
    "### Q4. Explain with an example:\n",
    " try and else\n",
    "\n",
    " finall\n",
    "\n",
    " raise "
   ]
  },
  {
   "attachments": {},
   "cell_type": "markdown",
   "metadata": {},
   "source": [
    "#### try-else:\n",
    "\n",
    "The try-else statement allows you to specify a block of code to be executed if no exceptions are raised within the try block. It provides a way to separate the code that can potentially raise an exception from the code that should be executed when no exception occurs.\n"
   ]
  },
  {
   "cell_type": "code",
   "execution_count": 9,
   "metadata": {},
   "outputs": [
    {
     "name": "stdout",
     "output_type": "stream",
     "text": [
      "result : 5.0\n"
     ]
    }
   ],
   "source": [
    "def division(a,b):\n",
    "    try:\n",
    "        result = a/b\n",
    "    \n",
    "    except ZeroDivisionError as e:\n",
    "        print(e)\n",
    "\n",
    "    else:\n",
    "       print(\"result :\", result)\n",
    "\n",
    "num = 10\n",
    "din = 2\n",
    "\n",
    "div  = division(num,din)\n"
   ]
  },
  {
   "attachments": {},
   "cell_type": "markdown",
   "metadata": {},
   "source": [
    "#### finally:\n",
    "The finally statement is used to define a block of code that will be executed regardless of whether an exception occurs or not. It is typically used to perform cleanup actions or release resources that need to be done irrespective of exceptions."
   ]
  },
  {
   "cell_type": "code",
   "execution_count": 11,
   "metadata": {},
   "outputs": [
    {
     "name": "stdout",
     "output_type": "stream",
     "text": [
      "I am shrungadithya\n",
      "I joined data science batch 2.0\n",
      "I love coding \n",
      "file closed\n"
     ]
    }
   ],
   "source": [
    "file = None\n",
    "\n",
    "try:\n",
    "    file = open(\"new.txt\", \"r\")\n",
    "    content = file.read()\n",
    "    print(content)\n",
    "\n",
    "except FileNotFoundError as e:\n",
    "    print(e)\n",
    "\n",
    "finally:\n",
    "    if file:\n",
    "        file.close()\n",
    "        print(\"file closed\")"
   ]
  },
  {
   "attachments": {},
   "cell_type": "markdown",
   "metadata": {},
   "source": [
    "#### raise:\n",
    "The raise statement is used to explicitly raise an exception in Python. It allows you to create and raise custom exceptions or propagate existing exceptions to higher levels of the program."
   ]
  },
  {
   "cell_type": "code",
   "execution_count": 12,
   "metadata": {},
   "outputs": [
    {
     "name": "stdout",
     "output_type": "stream",
     "text": [
      "Error: Age cannot be negative.\n"
     ]
    }
   ],
   "source": [
    "def validate_age(age):\n",
    "    if age < 0:\n",
    "        raise ValueError(\"Age cannot be negative.\")\n",
    "    elif age < 18:\n",
    "        raise ValueError(\"Age must be 18 or above.\")\n",
    "    else:\n",
    "        print(\"Age is valid.\")\n",
    "\n",
    "try:\n",
    "    validate_age(-5)\n",
    "except ValueError as e:\n",
    "    print(\"Error:\", str(e))\n"
   ]
  },
  {
   "attachments": {},
   "cell_type": "markdown",
   "metadata": {},
   "source": [
    "### Q5. What are Custom Exceptions in python? Why do we need Custom Exceptions? Explain with an example."
   ]
  },
  {
   "attachments": {},
   "cell_type": "markdown",
   "metadata": {},
   "source": [
    "Custom exceptions in Python are user-defined exceptions that allow programmers to create their own exception classes to handle specific exceptional situations in their code. These exceptions extend the base exception classes provided by Python and provide a way to encapsulate and handle application-specific errors or exceptional conditions.\n",
    "\n",
    " reasons why custom exceptions are useful:\n",
    "\n",
    "__Specificity__ : Custom exceptions allow you to create exception classes that are specific to your application's domain or the types of errors you expect to encounter. This specificity helps in identifying and handling exceptional situations more accurately.\n",
    "\n",
    "__Readability and Maintainability__: By using custom exceptions, you can provide meaningful and descriptive error messages, making your code more readable and maintainable. Custom exceptions act as self-documenting code elements that convey the intention and context of the error.\n",
    "\n",
    "__Modularization__: Custom exceptions can be defined in separate modules or files, allowing you to organize and modularize your exception handling code. This promotes code reuse and improves the overall structure of your program."
   ]
  },
  {
   "cell_type": "code",
   "execution_count": 15,
   "metadata": {},
   "outputs": [
    {
     "name": "stdout",
     "output_type": "stream",
     "text": [
      "Error: Insufficient funds in account 59852286295.\n"
     ]
    }
   ],
   "source": [
    "class InsufficientFundsError(Exception): # inherits from the base Exception class \n",
    "    def __init__(self, account_number):\n",
    "        self.account_number = account_number\n",
    "        super().__init__(f\"Insufficient funds in account {account_number}.\")\n",
    "\n",
    "def withdraw(account_balance, amount):\n",
    "    if amount > account_balance:\n",
    "        raise InsufficientFundsError(59852286295)\n",
    "    else:\n",
    "        account_balance -= amount\n",
    "        print(\"Withdrawal successful.\")\n",
    "\n",
    "account_balance = 1000\n",
    "withdraw_amount = 1500\n",
    "\n",
    "try:\n",
    "    withdraw(account_balance, withdraw_amount)\n",
    "except InsufficientFundsError as e:\n",
    "    print(\"Error:\", str(e))\n"
   ]
  },
  {
   "attachments": {},
   "cell_type": "markdown",
   "metadata": {},
   "source": [
    "### Q6. Create a custom exception class. Use this class to handle an exception."
   ]
  },
  {
   "cell_type": "code",
   "execution_count": 16,
   "metadata": {},
   "outputs": [
    {
     "name": "stdout",
     "output_type": "stream",
     "text": [
      "Error: Insufficient funds in account 648562262.\n"
     ]
    }
   ],
   "source": [
    "class InsufficientFundsError(Exception): # inherits from the base Exception class \n",
    "    def __init__(self, account_number):\n",
    "        self.account_number = account_number\n",
    "        super().__init__(f\"Insufficient funds in account {account_number}.\")\n",
    "\n",
    "def withdraw(account_balance, amount):\n",
    "    if amount > account_balance:\n",
    "        raise InsufficientFundsError(648562262)\n",
    "    else:\n",
    "        account_balance -= amount\n",
    "        print(\"Withdrawal successful.\")\n",
    "\n",
    "account_balance = 1000\n",
    "withdraw_amount = 1500\n",
    "\n",
    "try:\n",
    "    withdraw(account_balance, withdraw_amount)\n",
    "except InsufficientFundsError as e:\n",
    "    print(\"Error:\", str(e))\n"
   ]
  },
  {
   "cell_type": "code",
   "execution_count": null,
   "metadata": {},
   "outputs": [],
   "source": []
  }
 ],
 "metadata": {
  "kernelspec": {
   "display_name": "Python 3",
   "language": "python",
   "name": "python3"
  },
  "language_info": {
   "codemirror_mode": {
    "name": "ipython",
    "version": 3
   },
   "file_extension": ".py",
   "mimetype": "text/x-python",
   "name": "python",
   "nbconvert_exporter": "python",
   "pygments_lexer": "ipython3",
   "version": "3.10.11"
  },
  "orig_nbformat": 4
 },
 "nbformat": 4,
 "nbformat_minor": 2
}
