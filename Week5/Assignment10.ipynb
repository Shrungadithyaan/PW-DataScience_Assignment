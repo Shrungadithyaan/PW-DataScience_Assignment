{
 "cells": [
  {
   "cell_type": "markdown",
   "metadata": {},
   "source": [
    "### Q1. What is multiprocessing in python? Why is it useful?"
   ]
  },
  {
   "cell_type": "markdown",
   "metadata": {},
   "source": [
    "Multiprocessing in Python allows for the concurrent execution of multiple independent processes. It is useful because it:\n",
    "- Increases performance by utilizing multiple CPU cores.\n",
    "- Enhances responsiveness by executing time-consuming tasks in separate processes.\n",
    "- Maximizes resource utilization and speeds up execution.\n",
    "- Provides isolation and robustness between processes.\n",
    "- Overcomes the Global Interpreter Lock (GIL) limitation for CPU-bound tasks."
   ]
  },
  {
   "cell_type": "markdown",
   "metadata": {},
   "source": [
    "### Q2. What are the differences between multiprocessing and multithreading?"
   ]
  },
  {
   "cell_type": "markdown",
   "metadata": {},
   "source": [
    "\n",
    "- Multiprocessing involves multiple processes with separate memory spaces, achieving true parallelism with efficient resource utilization.\n",
    "- Multithreading involves multiple threads within a single process, sharing the same memory space, suitable for concurrency and I/O-bound tasks.\n",
    "- Multiprocessing provides better isolation and avoids race conditions but has higher overhead.\n",
    "- Multithreading has lower overhead but requires careful synchronization to avoid race conditions.\n",
    "- Multiprocessing is compatible with CPU-bound tasks in Python, while multithreading is limited by the Global Interpreter Lock (GIL) for CPU-bound tasks."
   ]
  },
  {
   "cell_type": "markdown",
   "metadata": {},
   "source": [
    "### Q3. Write a python code to create a process using the multiprocessing module."
   ]
  },
  {
   "cell_type": "code",
   "execution_count": 1,
   "metadata": {},
   "outputs": [
    {
     "name": "stdout",
     "output_type": "stream",
     "text": [
      "The square of 5 is 25\n",
      "Main process exiting\n"
     ]
    }
   ],
   "source": [
    "import multiprocessing\n",
    "\n",
    "def square(number):\n",
    "    result = number ** 2\n",
    "    print(f\"The square of {number} is {result}\")\n",
    "\n",
    "if __name__ == '__main__':\n",
    "\n",
    "    process = multiprocessing.Process(target=square, args=(5,))\n",
    "\n",
    "    process.start()\n",
    "\n",
    "    \n",
    "    process.join()\n",
    "\n",
    "    print(\"Main process exiting\")\n",
    "\n"
   ]
  },
  {
   "cell_type": "markdown",
   "metadata": {},
   "source": [
    "### Q4. What is a multiprocessing pool in python? Why is it used?"
   ]
  },
  {
   "cell_type": "markdown",
   "metadata": {},
   "source": [
    "A multiprocessing pool in Python is a mechanism provided by the `multiprocessing` module to manage a pool of worker processes. It is used for parallel execution of tasks and offers advantages such as:\n",
    "- Parallel execution of tasks, improving performance.\n",
    "- Efficient distribution of tasks among worker processes.\n",
    "- Reusing worker processes, reducing overhead.\n",
    "- Simplified programming model for parallel processing.\n",
    "- Load balancing for optimal task distribution."
   ]
  },
  {
   "cell_type": "markdown",
   "metadata": {},
   "source": [
    "### Q5. How can we create a pool of worker processes in python using the multiprocessing module?"
   ]
  },
  {
   "cell_type": "code",
   "execution_count": 2,
   "metadata": {},
   "outputs": [
    {
     "name": "stdout",
     "output_type": "stream",
     "text": [
      "[1, 4, 9, 16, 25]\n"
     ]
    }
   ],
   "source": [
    "import multiprocessing\n",
    "\n",
    "def square(number):\n",
    "    result = number ** 2\n",
    "    return result\n",
    "\n",
    "if __name__ == '__main__':\n",
    "  \n",
    "    pool = multiprocessing.Pool(processes=4)\n",
    "\n",
    "    results = [pool.apply_async(square, (n,)) for n in range(1, 6)]\n",
    "\n",
    "    output = [result.get() for result in results]\n",
    "\n",
    "    print(output)\n",
    "\n",
    "    pool.close()\n",
    "    pool.join()\n"
   ]
  },
  {
   "cell_type": "markdown",
   "metadata": {},
   "source": [
    "### Q6. Write a python program to create 4 processes, each process should print a different number using the multiprocessing module in python."
   ]
  },
  {
   "cell_type": "code",
   "execution_count": 3,
   "metadata": {},
   "outputs": [
    {
     "name": "stdout",
     "output_type": "stream",
     "text": [
      "1324\n",
      "\n",
      "\n",
      "\n"
     ]
    }
   ],
   "source": [
    "import multiprocessing\n",
    "\n",
    "def print_number(number):\n",
    "    print(number, end=\"\\n\")\n",
    "\n",
    "if __name__ == '__main__':\n",
    "    \n",
    "    numbers = [1, 2, 3, 4]\n",
    "\n",
    "    pool = multiprocessing.Pool(processes=4)\n",
    "\n",
    "    pool.map(print_number, numbers)\n",
    "\n",
    "    pool.close()\n",
    "    pool.join()\n"
   ]
  },
  {
   "cell_type": "code",
   "execution_count": null,
   "metadata": {},
   "outputs": [],
   "source": []
  }
 ],
 "metadata": {
  "kernelspec": {
   "display_name": "Python 3 (ipykernel)",
   "language": "python",
   "name": "python3"
  },
  "language_info": {
   "codemirror_mode": {
    "name": "ipython",
    "version": 3
   },
   "file_extension": ".py",
   "mimetype": "text/x-python",
   "name": "python",
   "nbconvert_exporter": "python",
   "pygments_lexer": "ipython3",
   "version": "3.10.8"
  }
 },
 "nbformat": 4,
 "nbformat_minor": 4
}
